{
  "cells": [
    {
      "cell_type": "markdown",
      "metadata": {
        "id": "qxgZFPRC274b"
      },
      "source": [
        "# **Predicting User Engagement Levels in Netflix: A Clustering-Based Approach**"
      ]
    },
    {
      "cell_type": "markdown",
      "metadata": {
        "id": "f09tvrr44ShG"
      },
      "source": [
        " This project aims to analyze dataset of Netflix user data, employ clustering techniques to identify user segments, and develop machine learning models for predicting user engagement levels, providing valuable insights for enhancing the streaming experience.\n",
        "\n",
        "\n",
        "\n",
        "\n"
      ]
    },
    {
      "cell_type": "markdown",
      "metadata": {
        "id": "2hjHjEkg9Npr"
      },
      "source": [
        "**1.Importing Libraries, Reading and Understanding the data**"
      ]
    },
    {
      "cell_type": "code",
      "execution_count": null,
      "metadata": {
        "id": "ju5RB34UCTbz"
      },
      "outputs": [],
      "source": [
        "# importing libraries\n",
        "\n",
        "import pandas as pd\n",
        "import numpy as np\n",
        "import matplotlib.pyplot as plt\n",
        "import seaborn as sns\n",
        "from sklearn.preprocessing import LabelEncoder\n",
        "from sklearn.preprocessing import MinMaxScaler\n",
        "from sklearn.cluster import KMeans\n",
        "from sklearn.cluster import AgglomerativeClustering\n",
        "from sklearn.neighbors import KNeighborsClassifier\n",
        "from sklearn.svm import SVC\n",
        "from sklearn.ensemble import RandomForestClassifier\n",
        "from sklearn.model_selection import GridSearchCV\n",
        "from sklearn.metrics import accuracy_score,classification_report,ConfusionMatrixDisplay\n"
      ]
    },
    {
      "cell_type": "code",
      "execution_count": null,
      "metadata": {
        "id": "V2DPSUCY8QUE"
      },
      "outputs": [],
      "source": [
        "import warnings\n",
        "warnings.filterwarnings('ignore')"
      ]
    },
    {
      "cell_type": "code",
      "execution_count": null,
      "metadata": {
        "colab": {
          "base_uri": "https://localhost:8080/",
          "height": 320
        },
        "id": "CB3-ByyVKjd6",
        "outputId": "1736df03-3f08-4d01-b4a4-6677e4000fd0"
      },
      "outputs": [
        {
          "output_type": "execute_result",
          "data": {
            "text/plain": [
              "   User ID Subscription Plan  Monthly Revenue ($)  Join Date Last Payment  \\\n",
              "0        1           Premium                15.99  5/15/2020    7/10/2023   \n",
              "1        2          Standard                11.99   1/8/2021    7/12/2023   \n",
              "2        3             Basic                 8.99  3/20/2022    7/11/2023   \n",
              "3        4           Premium                15.99  11/2/2020    7/12/2023   \n",
              "4        5             Basic                 8.99  7/15/2021    7/10/2023   \n",
              "\n",
              "     Country  Age  Gender    Device  Plan Duration (Months)  \\\n",
              "0        USA   28    Male  Smart TV                      12   \n",
              "1     Canada   35  Female    Laptop                       6   \n",
              "2         UK   42    Male    Mobile                       3   \n",
              "3  Australia   23  Female    Laptop                      12   \n",
              "4        USA   31    Male  Smart TV                       6   \n",
              "\n",
              "   Total Movies/Shows Watched Genre Preference  No. of Recommendations Viewed  \\\n",
              "0                       200.0            Drama                           10.0   \n",
              "1                       150.0           Comedy                            5.0   \n",
              "2                       100.0           Action                            3.0   \n",
              "3                       180.0           Comedy                            8.0   \n",
              "4                        90.0           Action                            6.0   \n",
              "\n",
              "  % of Recommendations Acted Upon Frequency of Rating  \n",
              "0                             60%              Weekly  \n",
              "1                             40%             Monthly  \n",
              "2                             20%               Never  \n",
              "3                             70%             Monthly  \n",
              "4                             50%              Weekly  "
            ],
            "text/html": [
              "\n",
              "\n",
              "  <div id=\"df-a7ae4aae-bfe1-467b-a982-09affabdcf6a\">\n",
              "    <div class=\"colab-df-container\">\n",
              "      <div>\n",
              "<style scoped>\n",
              "    .dataframe tbody tr th:only-of-type {\n",
              "        vertical-align: middle;\n",
              "    }\n",
              "\n",
              "    .dataframe tbody tr th {\n",
              "        vertical-align: top;\n",
              "    }\n",
              "\n",
              "    .dataframe thead th {\n",
              "        text-align: right;\n",
              "    }\n",
              "</style>\n",
              "<table border=\"1\" class=\"dataframe\">\n",
              "  <thead>\n",
              "    <tr style=\"text-align: right;\">\n",
              "      <th></th>\n",
              "      <th>User ID</th>\n",
              "      <th>Subscription Plan</th>\n",
              "      <th>Monthly Revenue ($)</th>\n",
              "      <th>Join Date</th>\n",
              "      <th>Last Payment</th>\n",
              "      <th>Country</th>\n",
              "      <th>Age</th>\n",
              "      <th>Gender</th>\n",
              "      <th>Device</th>\n",
              "      <th>Plan Duration (Months)</th>\n",
              "      <th>Total Movies/Shows Watched</th>\n",
              "      <th>Genre Preference</th>\n",
              "      <th>No. of Recommendations Viewed</th>\n",
              "      <th>% of Recommendations Acted Upon</th>\n",
              "      <th>Frequency of Rating</th>\n",
              "    </tr>\n",
              "  </thead>\n",
              "  <tbody>\n",
              "    <tr>\n",
              "      <th>0</th>\n",
              "      <td>1</td>\n",
              "      <td>Premium</td>\n",
              "      <td>15.99</td>\n",
              "      <td>5/15/2020</td>\n",
              "      <td>7/10/2023</td>\n",
              "      <td>USA</td>\n",
              "      <td>28</td>\n",
              "      <td>Male</td>\n",
              "      <td>Smart TV</td>\n",
              "      <td>12</td>\n",
              "      <td>200.0</td>\n",
              "      <td>Drama</td>\n",
              "      <td>10.0</td>\n",
              "      <td>60%</td>\n",
              "      <td>Weekly</td>\n",
              "    </tr>\n",
              "    <tr>\n",
              "      <th>1</th>\n",
              "      <td>2</td>\n",
              "      <td>Standard</td>\n",
              "      <td>11.99</td>\n",
              "      <td>1/8/2021</td>\n",
              "      <td>7/12/2023</td>\n",
              "      <td>Canada</td>\n",
              "      <td>35</td>\n",
              "      <td>Female</td>\n",
              "      <td>Laptop</td>\n",
              "      <td>6</td>\n",
              "      <td>150.0</td>\n",
              "      <td>Comedy</td>\n",
              "      <td>5.0</td>\n",
              "      <td>40%</td>\n",
              "      <td>Monthly</td>\n",
              "    </tr>\n",
              "    <tr>\n",
              "      <th>2</th>\n",
              "      <td>3</td>\n",
              "      <td>Basic</td>\n",
              "      <td>8.99</td>\n",
              "      <td>3/20/2022</td>\n",
              "      <td>7/11/2023</td>\n",
              "      <td>UK</td>\n",
              "      <td>42</td>\n",
              "      <td>Male</td>\n",
              "      <td>Mobile</td>\n",
              "      <td>3</td>\n",
              "      <td>100.0</td>\n",
              "      <td>Action</td>\n",
              "      <td>3.0</td>\n",
              "      <td>20%</td>\n",
              "      <td>Never</td>\n",
              "    </tr>\n",
              "    <tr>\n",
              "      <th>3</th>\n",
              "      <td>4</td>\n",
              "      <td>Premium</td>\n",
              "      <td>15.99</td>\n",
              "      <td>11/2/2020</td>\n",
              "      <td>7/12/2023</td>\n",
              "      <td>Australia</td>\n",
              "      <td>23</td>\n",
              "      <td>Female</td>\n",
              "      <td>Laptop</td>\n",
              "      <td>12</td>\n",
              "      <td>180.0</td>\n",
              "      <td>Comedy</td>\n",
              "      <td>8.0</td>\n",
              "      <td>70%</td>\n",
              "      <td>Monthly</td>\n",
              "    </tr>\n",
              "    <tr>\n",
              "      <th>4</th>\n",
              "      <td>5</td>\n",
              "      <td>Basic</td>\n",
              "      <td>8.99</td>\n",
              "      <td>7/15/2021</td>\n",
              "      <td>7/10/2023</td>\n",
              "      <td>USA</td>\n",
              "      <td>31</td>\n",
              "      <td>Male</td>\n",
              "      <td>Smart TV</td>\n",
              "      <td>6</td>\n",
              "      <td>90.0</td>\n",
              "      <td>Action</td>\n",
              "      <td>6.0</td>\n",
              "      <td>50%</td>\n",
              "      <td>Weekly</td>\n",
              "    </tr>\n",
              "  </tbody>\n",
              "</table>\n",
              "</div>\n",
              "      <button class=\"colab-df-convert\" onclick=\"convertToInteractive('df-a7ae4aae-bfe1-467b-a982-09affabdcf6a')\"\n",
              "              title=\"Convert this dataframe to an interactive table.\"\n",
              "              style=\"display:none;\">\n",
              "\n",
              "  <svg xmlns=\"http://www.w3.org/2000/svg\" height=\"24px\"viewBox=\"0 0 24 24\"\n",
              "       width=\"24px\">\n",
              "    <path d=\"M0 0h24v24H0V0z\" fill=\"none\"/>\n",
              "    <path d=\"M18.56 5.44l.94 2.06.94-2.06 2.06-.94-2.06-.94-.94-2.06-.94 2.06-2.06.94zm-11 1L8.5 8.5l.94-2.06 2.06-.94-2.06-.94L8.5 2.5l-.94 2.06-2.06.94zm10 10l.94 2.06.94-2.06 2.06-.94-2.06-.94-.94-2.06-.94 2.06-2.06.94z\"/><path d=\"M17.41 7.96l-1.37-1.37c-.4-.4-.92-.59-1.43-.59-.52 0-1.04.2-1.43.59L10.3 9.45l-7.72 7.72c-.78.78-.78 2.05 0 2.83L4 21.41c.39.39.9.59 1.41.59.51 0 1.02-.2 1.41-.59l7.78-7.78 2.81-2.81c.8-.78.8-2.07 0-2.86zM5.41 20L4 18.59l7.72-7.72 1.47 1.35L5.41 20z\"/>\n",
              "  </svg>\n",
              "      </button>\n",
              "\n",
              "\n",
              "\n",
              "    <div id=\"df-243f3cfb-4280-4abe-b994-9459a0124052\">\n",
              "      <button class=\"colab-df-quickchart\" onclick=\"quickchart('df-243f3cfb-4280-4abe-b994-9459a0124052')\"\n",
              "              title=\"Suggest charts.\"\n",
              "              style=\"display:none;\">\n",
              "\n",
              "<svg xmlns=\"http://www.w3.org/2000/svg\" height=\"24px\"viewBox=\"0 0 24 24\"\n",
              "     width=\"24px\">\n",
              "    <g>\n",
              "        <path d=\"M19 3H5c-1.1 0-2 .9-2 2v14c0 1.1.9 2 2 2h14c1.1 0 2-.9 2-2V5c0-1.1-.9-2-2-2zM9 17H7v-7h2v7zm4 0h-2V7h2v10zm4 0h-2v-4h2v4z\"/>\n",
              "    </g>\n",
              "</svg>\n",
              "      </button>\n",
              "    </div>\n",
              "\n",
              "<style>\n",
              "  .colab-df-quickchart {\n",
              "    background-color: #E8F0FE;\n",
              "    border: none;\n",
              "    border-radius: 50%;\n",
              "    cursor: pointer;\n",
              "    display: none;\n",
              "    fill: #1967D2;\n",
              "    height: 32px;\n",
              "    padding: 0 0 0 0;\n",
              "    width: 32px;\n",
              "  }\n",
              "\n",
              "  .colab-df-quickchart:hover {\n",
              "    background-color: #E2EBFA;\n",
              "    box-shadow: 0px 1px 2px rgba(60, 64, 67, 0.3), 0px 1px 3px 1px rgba(60, 64, 67, 0.15);\n",
              "    fill: #174EA6;\n",
              "  }\n",
              "\n",
              "  [theme=dark] .colab-df-quickchart {\n",
              "    background-color: #3B4455;\n",
              "    fill: #D2E3FC;\n",
              "  }\n",
              "\n",
              "  [theme=dark] .colab-df-quickchart:hover {\n",
              "    background-color: #434B5C;\n",
              "    box-shadow: 0px 1px 3px 1px rgba(0, 0, 0, 0.15);\n",
              "    filter: drop-shadow(0px 1px 2px rgba(0, 0, 0, 0.3));\n",
              "    fill: #FFFFFF;\n",
              "  }\n",
              "</style>\n",
              "\n",
              "    <script>\n",
              "      async function quickchart(key) {\n",
              "        const containerElement = document.querySelector('#' + key);\n",
              "        const charts = await google.colab.kernel.invokeFunction(\n",
              "            'suggestCharts', [key], {});\n",
              "      }\n",
              "    </script>\n",
              "\n",
              "      <script>\n",
              "\n",
              "function displayQuickchartButton(domScope) {\n",
              "  let quickchartButtonEl =\n",
              "    domScope.querySelector('#df-243f3cfb-4280-4abe-b994-9459a0124052 button.colab-df-quickchart');\n",
              "  quickchartButtonEl.style.display =\n",
              "    google.colab.kernel.accessAllowed ? 'block' : 'none';\n",
              "}\n",
              "\n",
              "        displayQuickchartButton(document);\n",
              "      </script>\n",
              "      <style>\n",
              "    .colab-df-container {\n",
              "      display:flex;\n",
              "      flex-wrap:wrap;\n",
              "      gap: 12px;\n",
              "    }\n",
              "\n",
              "    .colab-df-convert {\n",
              "      background-color: #E8F0FE;\n",
              "      border: none;\n",
              "      border-radius: 50%;\n",
              "      cursor: pointer;\n",
              "      display: none;\n",
              "      fill: #1967D2;\n",
              "      height: 32px;\n",
              "      padding: 0 0 0 0;\n",
              "      width: 32px;\n",
              "    }\n",
              "\n",
              "    .colab-df-convert:hover {\n",
              "      background-color: #E2EBFA;\n",
              "      box-shadow: 0px 1px 2px rgba(60, 64, 67, 0.3), 0px 1px 3px 1px rgba(60, 64, 67, 0.15);\n",
              "      fill: #174EA6;\n",
              "    }\n",
              "\n",
              "    [theme=dark] .colab-df-convert {\n",
              "      background-color: #3B4455;\n",
              "      fill: #D2E3FC;\n",
              "    }\n",
              "\n",
              "    [theme=dark] .colab-df-convert:hover {\n",
              "      background-color: #434B5C;\n",
              "      box-shadow: 0px 1px 3px 1px rgba(0, 0, 0, 0.15);\n",
              "      filter: drop-shadow(0px 1px 2px rgba(0, 0, 0, 0.3));\n",
              "      fill: #FFFFFF;\n",
              "    }\n",
              "  </style>\n",
              "\n",
              "      <script>\n",
              "        const buttonEl =\n",
              "          document.querySelector('#df-a7ae4aae-bfe1-467b-a982-09affabdcf6a button.colab-df-convert');\n",
              "        buttonEl.style.display =\n",
              "          google.colab.kernel.accessAllowed ? 'block' : 'none';\n",
              "\n",
              "        async function convertToInteractive(key) {\n",
              "          const element = document.querySelector('#df-a7ae4aae-bfe1-467b-a982-09affabdcf6a');\n",
              "          const dataTable =\n",
              "            await google.colab.kernel.invokeFunction('convertToInteractive',\n",
              "                                                     [key], {});\n",
              "          if (!dataTable) return;\n",
              "\n",
              "          const docLinkHtml = 'Like what you see? Visit the ' +\n",
              "            '<a target=\"_blank\" href=https://colab.research.google.com/notebooks/data_table.ipynb>data table notebook</a>'\n",
              "            + ' to learn more about interactive tables.';\n",
              "          element.innerHTML = '';\n",
              "          dataTable['output_type'] = 'display_data';\n",
              "          await google.colab.output.renderOutput(dataTable, element);\n",
              "          const docLink = document.createElement('div');\n",
              "          docLink.innerHTML = docLinkHtml;\n",
              "          element.appendChild(docLink);\n",
              "        }\n",
              "      </script>\n",
              "    </div>\n",
              "  </div>\n"
            ]
          },
          "metadata": {},
          "execution_count": 84
        }
      ],
      "source": [
        "# Reading the data\n",
        "\n",
        "df=pd.read_csv('/content/drive/MyDrive/netflix user_data.csv')\n",
        "df.head()"
      ]
    },
    {
      "cell_type": "code",
      "execution_count": null,
      "metadata": {
        "colab": {
          "base_uri": "https://localhost:8080/",
          "height": 322
        },
        "id": "d4WnNpzKO1n1",
        "outputId": "a6c32736-9613-421b-a886-11b1f6c569de"
      },
      "outputs": [
        {
          "output_type": "execute_result",
          "data": {
            "text/plain": [
              "     User ID Subscription Plan  Monthly Revenue ($)   Join Date Last Payment  \\\n",
              "541      542           Premium                15.99    4/2/2021    7/11/2023   \n",
              "542      543             Basic                 8.99    8/9/2022    7/10/2023   \n",
              "543      544           Premium                15.99  10/16/2020    7/12/2023   \n",
              "544      545             Basic                 8.99  12/31/2021    7/12/2023   \n",
              "545      546             Basic               100.00    1/9/2021    7/11/2023   \n",
              "\n",
              "       Country  Age  Gender    Device  Plan Duration (Months)  \\\n",
              "541  Australia   35    Male  Smart TV                      12   \n",
              "542         UK   29  Female    Laptop                       3   \n",
              "543     Canada   41    Male    Mobile                      12   \n",
              "544         UK   55  Female    Mobile                      12   \n",
              "545        USA   25  Female    Mobile                       1   \n",
              "\n",
              "     Total Movies/Shows Watched Genre Preference  \\\n",
              "541                       180.0          Fantasy   \n",
              "542                        90.0           Comedy   \n",
              "543                       200.0          Mystery   \n",
              "544                       250.0            Drama   \n",
              "545                        10.0           Action   \n",
              "\n",
              "     No. of Recommendations Viewed % of Recommendations Acted Upon  \\\n",
              "541                            8.0                             60%   \n",
              "542                            4.0                             40%   \n",
              "543                           10.0                             70%   \n",
              "544                            NaN                             54%   \n",
              "545                           50.0                             30%   \n",
              "\n",
              "    Frequency of Rating  \n",
              "541              Weekly  \n",
              "542               Never  \n",
              "543             Monthly  \n",
              "544             Monthly  \n",
              "545             Monthly  "
            ],
            "text/html": [
              "\n",
              "\n",
              "  <div id=\"df-d24389d5-3dac-4022-9f6b-53e0347020e0\">\n",
              "    <div class=\"colab-df-container\">\n",
              "      <div>\n",
              "<style scoped>\n",
              "    .dataframe tbody tr th:only-of-type {\n",
              "        vertical-align: middle;\n",
              "    }\n",
              "\n",
              "    .dataframe tbody tr th {\n",
              "        vertical-align: top;\n",
              "    }\n",
              "\n",
              "    .dataframe thead th {\n",
              "        text-align: right;\n",
              "    }\n",
              "</style>\n",
              "<table border=\"1\" class=\"dataframe\">\n",
              "  <thead>\n",
              "    <tr style=\"text-align: right;\">\n",
              "      <th></th>\n",
              "      <th>User ID</th>\n",
              "      <th>Subscription Plan</th>\n",
              "      <th>Monthly Revenue ($)</th>\n",
              "      <th>Join Date</th>\n",
              "      <th>Last Payment</th>\n",
              "      <th>Country</th>\n",
              "      <th>Age</th>\n",
              "      <th>Gender</th>\n",
              "      <th>Device</th>\n",
              "      <th>Plan Duration (Months)</th>\n",
              "      <th>Total Movies/Shows Watched</th>\n",
              "      <th>Genre Preference</th>\n",
              "      <th>No. of Recommendations Viewed</th>\n",
              "      <th>% of Recommendations Acted Upon</th>\n",
              "      <th>Frequency of Rating</th>\n",
              "    </tr>\n",
              "  </thead>\n",
              "  <tbody>\n",
              "    <tr>\n",
              "      <th>541</th>\n",
              "      <td>542</td>\n",
              "      <td>Premium</td>\n",
              "      <td>15.99</td>\n",
              "      <td>4/2/2021</td>\n",
              "      <td>7/11/2023</td>\n",
              "      <td>Australia</td>\n",
              "      <td>35</td>\n",
              "      <td>Male</td>\n",
              "      <td>Smart TV</td>\n",
              "      <td>12</td>\n",
              "      <td>180.0</td>\n",
              "      <td>Fantasy</td>\n",
              "      <td>8.0</td>\n",
              "      <td>60%</td>\n",
              "      <td>Weekly</td>\n",
              "    </tr>\n",
              "    <tr>\n",
              "      <th>542</th>\n",
              "      <td>543</td>\n",
              "      <td>Basic</td>\n",
              "      <td>8.99</td>\n",
              "      <td>8/9/2022</td>\n",
              "      <td>7/10/2023</td>\n",
              "      <td>UK</td>\n",
              "      <td>29</td>\n",
              "      <td>Female</td>\n",
              "      <td>Laptop</td>\n",
              "      <td>3</td>\n",
              "      <td>90.0</td>\n",
              "      <td>Comedy</td>\n",
              "      <td>4.0</td>\n",
              "      <td>40%</td>\n",
              "      <td>Never</td>\n",
              "    </tr>\n",
              "    <tr>\n",
              "      <th>543</th>\n",
              "      <td>544</td>\n",
              "      <td>Premium</td>\n",
              "      <td>15.99</td>\n",
              "      <td>10/16/2020</td>\n",
              "      <td>7/12/2023</td>\n",
              "      <td>Canada</td>\n",
              "      <td>41</td>\n",
              "      <td>Male</td>\n",
              "      <td>Mobile</td>\n",
              "      <td>12</td>\n",
              "      <td>200.0</td>\n",
              "      <td>Mystery</td>\n",
              "      <td>10.0</td>\n",
              "      <td>70%</td>\n",
              "      <td>Monthly</td>\n",
              "    </tr>\n",
              "    <tr>\n",
              "      <th>544</th>\n",
              "      <td>545</td>\n",
              "      <td>Basic</td>\n",
              "      <td>8.99</td>\n",
              "      <td>12/31/2021</td>\n",
              "      <td>7/12/2023</td>\n",
              "      <td>UK</td>\n",
              "      <td>55</td>\n",
              "      <td>Female</td>\n",
              "      <td>Mobile</td>\n",
              "      <td>12</td>\n",
              "      <td>250.0</td>\n",
              "      <td>Drama</td>\n",
              "      <td>NaN</td>\n",
              "      <td>54%</td>\n",
              "      <td>Monthly</td>\n",
              "    </tr>\n",
              "    <tr>\n",
              "      <th>545</th>\n",
              "      <td>546</td>\n",
              "      <td>Basic</td>\n",
              "      <td>100.00</td>\n",
              "      <td>1/9/2021</td>\n",
              "      <td>7/11/2023</td>\n",
              "      <td>USA</td>\n",
              "      <td>25</td>\n",
              "      <td>Female</td>\n",
              "      <td>Mobile</td>\n",
              "      <td>1</td>\n",
              "      <td>10.0</td>\n",
              "      <td>Action</td>\n",
              "      <td>50.0</td>\n",
              "      <td>30%</td>\n",
              "      <td>Monthly</td>\n",
              "    </tr>\n",
              "  </tbody>\n",
              "</table>\n",
              "</div>\n",
              "      <button class=\"colab-df-convert\" onclick=\"convertToInteractive('df-d24389d5-3dac-4022-9f6b-53e0347020e0')\"\n",
              "              title=\"Convert this dataframe to an interactive table.\"\n",
              "              style=\"display:none;\">\n",
              "\n",
              "  <svg xmlns=\"http://www.w3.org/2000/svg\" height=\"24px\"viewBox=\"0 0 24 24\"\n",
              "       width=\"24px\">\n",
              "    <path d=\"M0 0h24v24H0V0z\" fill=\"none\"/>\n",
              "    <path d=\"M18.56 5.44l.94 2.06.94-2.06 2.06-.94-2.06-.94-.94-2.06-.94 2.06-2.06.94zm-11 1L8.5 8.5l.94-2.06 2.06-.94-2.06-.94L8.5 2.5l-.94 2.06-2.06.94zm10 10l.94 2.06.94-2.06 2.06-.94-2.06-.94-.94-2.06-.94 2.06-2.06.94z\"/><path d=\"M17.41 7.96l-1.37-1.37c-.4-.4-.92-.59-1.43-.59-.52 0-1.04.2-1.43.59L10.3 9.45l-7.72 7.72c-.78.78-.78 2.05 0 2.83L4 21.41c.39.39.9.59 1.41.59.51 0 1.02-.2 1.41-.59l7.78-7.78 2.81-2.81c.8-.78.8-2.07 0-2.86zM5.41 20L4 18.59l7.72-7.72 1.47 1.35L5.41 20z\"/>\n",
              "  </svg>\n",
              "      </button>\n",
              "\n",
              "\n",
              "\n",
              "    <div id=\"df-c0bcf605-aba6-471d-9378-a450ea15c927\">\n",
              "      <button class=\"colab-df-quickchart\" onclick=\"quickchart('df-c0bcf605-aba6-471d-9378-a450ea15c927')\"\n",
              "              title=\"Suggest charts.\"\n",
              "              style=\"display:none;\">\n",
              "\n",
              "<svg xmlns=\"http://www.w3.org/2000/svg\" height=\"24px\"viewBox=\"0 0 24 24\"\n",
              "     width=\"24px\">\n",
              "    <g>\n",
              "        <path d=\"M19 3H5c-1.1 0-2 .9-2 2v14c0 1.1.9 2 2 2h14c1.1 0 2-.9 2-2V5c0-1.1-.9-2-2-2zM9 17H7v-7h2v7zm4 0h-2V7h2v10zm4 0h-2v-4h2v4z\"/>\n",
              "    </g>\n",
              "</svg>\n",
              "      </button>\n",
              "    </div>\n",
              "\n",
              "<style>\n",
              "  .colab-df-quickchart {\n",
              "    background-color: #E8F0FE;\n",
              "    border: none;\n",
              "    border-radius: 50%;\n",
              "    cursor: pointer;\n",
              "    display: none;\n",
              "    fill: #1967D2;\n",
              "    height: 32px;\n",
              "    padding: 0 0 0 0;\n",
              "    width: 32px;\n",
              "  }\n",
              "\n",
              "  .colab-df-quickchart:hover {\n",
              "    background-color: #E2EBFA;\n",
              "    box-shadow: 0px 1px 2px rgba(60, 64, 67, 0.3), 0px 1px 3px 1px rgba(60, 64, 67, 0.15);\n",
              "    fill: #174EA6;\n",
              "  }\n",
              "\n",
              "  [theme=dark] .colab-df-quickchart {\n",
              "    background-color: #3B4455;\n",
              "    fill: #D2E3FC;\n",
              "  }\n",
              "\n",
              "  [theme=dark] .colab-df-quickchart:hover {\n",
              "    background-color: #434B5C;\n",
              "    box-shadow: 0px 1px 3px 1px rgba(0, 0, 0, 0.15);\n",
              "    filter: drop-shadow(0px 1px 2px rgba(0, 0, 0, 0.3));\n",
              "    fill: #FFFFFF;\n",
              "  }\n",
              "</style>\n",
              "\n",
              "    <script>\n",
              "      async function quickchart(key) {\n",
              "        const containerElement = document.querySelector('#' + key);\n",
              "        const charts = await google.colab.kernel.invokeFunction(\n",
              "            'suggestCharts', [key], {});\n",
              "      }\n",
              "    </script>\n",
              "\n",
              "      <script>\n",
              "\n",
              "function displayQuickchartButton(domScope) {\n",
              "  let quickchartButtonEl =\n",
              "    domScope.querySelector('#df-c0bcf605-aba6-471d-9378-a450ea15c927 button.colab-df-quickchart');\n",
              "  quickchartButtonEl.style.display =\n",
              "    google.colab.kernel.accessAllowed ? 'block' : 'none';\n",
              "}\n",
              "\n",
              "        displayQuickchartButton(document);\n",
              "      </script>\n",
              "      <style>\n",
              "    .colab-df-container {\n",
              "      display:flex;\n",
              "      flex-wrap:wrap;\n",
              "      gap: 12px;\n",
              "    }\n",
              "\n",
              "    .colab-df-convert {\n",
              "      background-color: #E8F0FE;\n",
              "      border: none;\n",
              "      border-radius: 50%;\n",
              "      cursor: pointer;\n",
              "      display: none;\n",
              "      fill: #1967D2;\n",
              "      height: 32px;\n",
              "      padding: 0 0 0 0;\n",
              "      width: 32px;\n",
              "    }\n",
              "\n",
              "    .colab-df-convert:hover {\n",
              "      background-color: #E2EBFA;\n",
              "      box-shadow: 0px 1px 2px rgba(60, 64, 67, 0.3), 0px 1px 3px 1px rgba(60, 64, 67, 0.15);\n",
              "      fill: #174EA6;\n",
              "    }\n",
              "\n",
              "    [theme=dark] .colab-df-convert {\n",
              "      background-color: #3B4455;\n",
              "      fill: #D2E3FC;\n",
              "    }\n",
              "\n",
              "    [theme=dark] .colab-df-convert:hover {\n",
              "      background-color: #434B5C;\n",
              "      box-shadow: 0px 1px 3px 1px rgba(0, 0, 0, 0.15);\n",
              "      filter: drop-shadow(0px 1px 2px rgba(0, 0, 0, 0.3));\n",
              "      fill: #FFFFFF;\n",
              "    }\n",
              "  </style>\n",
              "\n",
              "      <script>\n",
              "        const buttonEl =\n",
              "          document.querySelector('#df-d24389d5-3dac-4022-9f6b-53e0347020e0 button.colab-df-convert');\n",
              "        buttonEl.style.display =\n",
              "          google.colab.kernel.accessAllowed ? 'block' : 'none';\n",
              "\n",
              "        async function convertToInteractive(key) {\n",
              "          const element = document.querySelector('#df-d24389d5-3dac-4022-9f6b-53e0347020e0');\n",
              "          const dataTable =\n",
              "            await google.colab.kernel.invokeFunction('convertToInteractive',\n",
              "                                                     [key], {});\n",
              "          if (!dataTable) return;\n",
              "\n",
              "          const docLinkHtml = 'Like what you see? Visit the ' +\n",
              "            '<a target=\"_blank\" href=https://colab.research.google.com/notebooks/data_table.ipynb>data table notebook</a>'\n",
              "            + ' to learn more about interactive tables.';\n",
              "          element.innerHTML = '';\n",
              "          dataTable['output_type'] = 'display_data';\n",
              "          await google.colab.output.renderOutput(dataTable, element);\n",
              "          const docLink = document.createElement('div');\n",
              "          docLink.innerHTML = docLinkHtml;\n",
              "          element.appendChild(docLink);\n",
              "        }\n",
              "      </script>\n",
              "    </div>\n",
              "  </div>\n"
            ]
          },
          "metadata": {},
          "execution_count": 85
        }
      ],
      "source": [
        "df.tail()"
      ]
    },
    {
      "cell_type": "code",
      "source": [
        "df.shape"
      ],
      "metadata": {
        "colab": {
          "base_uri": "https://localhost:8080/"
        },
        "id": "wHEv5T6Yg38l",
        "outputId": "3a58d469-9e7a-4a75-dbf5-5421a997f07f"
      },
      "execution_count": null,
      "outputs": [
        {
          "output_type": "execute_result",
          "data": {
            "text/plain": [
              "(546, 15)"
            ]
          },
          "metadata": {},
          "execution_count": 86
        }
      ]
    },
    {
      "cell_type": "code",
      "execution_count": null,
      "metadata": {
        "colab": {
          "base_uri": "https://localhost:8080/"
        },
        "id": "XQtgIFZPJBWC",
        "outputId": "bcb05ef2-d74a-43c8-ff5d-97198f1e1da8"
      },
      "outputs": [
        {
          "output_type": "stream",
          "name": "stdout",
          "text": [
            "<class 'pandas.core.frame.DataFrame'>\n",
            "RangeIndex: 546 entries, 0 to 545\n",
            "Data columns (total 15 columns):\n",
            " #   Column                           Non-Null Count  Dtype  \n",
            "---  ------                           --------------  -----  \n",
            " 0   User ID                          546 non-null    int64  \n",
            " 1   Subscription Plan                546 non-null    object \n",
            " 2   Monthly Revenue ($)              546 non-null    float64\n",
            " 3   Join Date                        546 non-null    object \n",
            " 4   Last Payment                     546 non-null    object \n",
            " 5   Country                          546 non-null    object \n",
            " 6   Age                              546 non-null    int64  \n",
            " 7   Gender                           546 non-null    object \n",
            " 8   Device                           546 non-null    object \n",
            " 9   Plan Duration (Months)           546 non-null    int64  \n",
            " 10  Total Movies/Shows Watched       545 non-null    float64\n",
            " 11  Genre Preference                 545 non-null    object \n",
            " 12  No. of Recommendations Viewed    544 non-null    float64\n",
            " 13  % of Recommendations Acted Upon  545 non-null    object \n",
            " 14  Frequency of Rating              542 non-null    object \n",
            "dtypes: float64(3), int64(3), object(9)\n",
            "memory usage: 64.1+ KB\n"
          ]
        }
      ],
      "source": [
        "df.info()"
      ]
    },
    {
      "cell_type": "markdown",
      "metadata": {
        "id": "gOWf1AVlpYzw"
      },
      "source": [
        "**2.Exploratory Data Analysis(EDA)**"
      ]
    },
    {
      "cell_type": "markdown",
      "metadata": {
        "id": "mC_ni7_gIvg2"
      },
      "source": [
        "EDA involves data exploration, visualization, to detect any outliers or missing values"
      ]
    },
    {
      "cell_type": "code",
      "execution_count": null,
      "metadata": {
        "colab": {
          "base_uri": "https://localhost:8080/",
          "height": 282
        },
        "id": "7maJjWHT63KO",
        "outputId": "ac43638f-0ed7-45b0-bef9-556c1a536fee"
      },
      "outputs": [
        {
          "output_type": "execute_result",
          "data": {
            "text/plain": [
              "                                User ID  Monthly Revenue ($)       Age  \\\n",
              "User ID                        1.000000             0.045907  0.018633   \n",
              "Monthly Revenue ($)            0.045907             1.000000 -0.014402   \n",
              "Age                            0.018633            -0.014402  1.000000   \n",
              "Plan Duration (Months)        -0.013385             0.461880  0.097960   \n",
              "Total Movies/Shows Watched    -0.003869             0.444772  0.082154   \n",
              "No. of Recommendations Viewed  0.016702             0.539447  0.042367   \n",
              "\n",
              "                               Plan Duration (Months)  \\\n",
              "User ID                                     -0.013385   \n",
              "Monthly Revenue ($)                          0.461880   \n",
              "Age                                          0.097960   \n",
              "Plan Duration (Months)                       1.000000   \n",
              "Total Movies/Shows Watched                   0.934553   \n",
              "No. of Recommendations Viewed                0.616268   \n",
              "\n",
              "                               Total Movies/Shows Watched  \\\n",
              "User ID                                         -0.003869   \n",
              "Monthly Revenue ($)                              0.444772   \n",
              "Age                                              0.082154   \n",
              "Plan Duration (Months)                           0.934553   \n",
              "Total Movies/Shows Watched                       1.000000   \n",
              "No. of Recommendations Viewed                    0.569725   \n",
              "\n",
              "                               No. of Recommendations Viewed  \n",
              "User ID                                             0.016702  \n",
              "Monthly Revenue ($)                                 0.539447  \n",
              "Age                                                 0.042367  \n",
              "Plan Duration (Months)                              0.616268  \n",
              "Total Movies/Shows Watched                          0.569725  \n",
              "No. of Recommendations Viewed                       1.000000  "
            ],
            "text/html": [
              "\n",
              "\n",
              "  <div id=\"df-1f6c5bca-43f4-46ff-8b1e-aa2bb1f3e60c\">\n",
              "    <div class=\"colab-df-container\">\n",
              "      <div>\n",
              "<style scoped>\n",
              "    .dataframe tbody tr th:only-of-type {\n",
              "        vertical-align: middle;\n",
              "    }\n",
              "\n",
              "    .dataframe tbody tr th {\n",
              "        vertical-align: top;\n",
              "    }\n",
              "\n",
              "    .dataframe thead th {\n",
              "        text-align: right;\n",
              "    }\n",
              "</style>\n",
              "<table border=\"1\" class=\"dataframe\">\n",
              "  <thead>\n",
              "    <tr style=\"text-align: right;\">\n",
              "      <th></th>\n",
              "      <th>User ID</th>\n",
              "      <th>Monthly Revenue ($)</th>\n",
              "      <th>Age</th>\n",
              "      <th>Plan Duration (Months)</th>\n",
              "      <th>Total Movies/Shows Watched</th>\n",
              "      <th>No. of Recommendations Viewed</th>\n",
              "    </tr>\n",
              "  </thead>\n",
              "  <tbody>\n",
              "    <tr>\n",
              "      <th>User ID</th>\n",
              "      <td>1.000000</td>\n",
              "      <td>0.045907</td>\n",
              "      <td>0.018633</td>\n",
              "      <td>-0.013385</td>\n",
              "      <td>-0.003869</td>\n",
              "      <td>0.016702</td>\n",
              "    </tr>\n",
              "    <tr>\n",
              "      <th>Monthly Revenue ($)</th>\n",
              "      <td>0.045907</td>\n",
              "      <td>1.000000</td>\n",
              "      <td>-0.014402</td>\n",
              "      <td>0.461880</td>\n",
              "      <td>0.444772</td>\n",
              "      <td>0.539447</td>\n",
              "    </tr>\n",
              "    <tr>\n",
              "      <th>Age</th>\n",
              "      <td>0.018633</td>\n",
              "      <td>-0.014402</td>\n",
              "      <td>1.000000</td>\n",
              "      <td>0.097960</td>\n",
              "      <td>0.082154</td>\n",
              "      <td>0.042367</td>\n",
              "    </tr>\n",
              "    <tr>\n",
              "      <th>Plan Duration (Months)</th>\n",
              "      <td>-0.013385</td>\n",
              "      <td>0.461880</td>\n",
              "      <td>0.097960</td>\n",
              "      <td>1.000000</td>\n",
              "      <td>0.934553</td>\n",
              "      <td>0.616268</td>\n",
              "    </tr>\n",
              "    <tr>\n",
              "      <th>Total Movies/Shows Watched</th>\n",
              "      <td>-0.003869</td>\n",
              "      <td>0.444772</td>\n",
              "      <td>0.082154</td>\n",
              "      <td>0.934553</td>\n",
              "      <td>1.000000</td>\n",
              "      <td>0.569725</td>\n",
              "    </tr>\n",
              "    <tr>\n",
              "      <th>No. of Recommendations Viewed</th>\n",
              "      <td>0.016702</td>\n",
              "      <td>0.539447</td>\n",
              "      <td>0.042367</td>\n",
              "      <td>0.616268</td>\n",
              "      <td>0.569725</td>\n",
              "      <td>1.000000</td>\n",
              "    </tr>\n",
              "  </tbody>\n",
              "</table>\n",
              "</div>\n",
              "      <button class=\"colab-df-convert\" onclick=\"convertToInteractive('df-1f6c5bca-43f4-46ff-8b1e-aa2bb1f3e60c')\"\n",
              "              title=\"Convert this dataframe to an interactive table.\"\n",
              "              style=\"display:none;\">\n",
              "\n",
              "  <svg xmlns=\"http://www.w3.org/2000/svg\" height=\"24px\"viewBox=\"0 0 24 24\"\n",
              "       width=\"24px\">\n",
              "    <path d=\"M0 0h24v24H0V0z\" fill=\"none\"/>\n",
              "    <path d=\"M18.56 5.44l.94 2.06.94-2.06 2.06-.94-2.06-.94-.94-2.06-.94 2.06-2.06.94zm-11 1L8.5 8.5l.94-2.06 2.06-.94-2.06-.94L8.5 2.5l-.94 2.06-2.06.94zm10 10l.94 2.06.94-2.06 2.06-.94-2.06-.94-.94-2.06-.94 2.06-2.06.94z\"/><path d=\"M17.41 7.96l-1.37-1.37c-.4-.4-.92-.59-1.43-.59-.52 0-1.04.2-1.43.59L10.3 9.45l-7.72 7.72c-.78.78-.78 2.05 0 2.83L4 21.41c.39.39.9.59 1.41.59.51 0 1.02-.2 1.41-.59l7.78-7.78 2.81-2.81c.8-.78.8-2.07 0-2.86zM5.41 20L4 18.59l7.72-7.72 1.47 1.35L5.41 20z\"/>\n",
              "  </svg>\n",
              "      </button>\n",
              "\n",
              "\n",
              "\n",
              "    <div id=\"df-71166ecb-664e-4a85-b1aa-d32ef986f85c\">\n",
              "      <button class=\"colab-df-quickchart\" onclick=\"quickchart('df-71166ecb-664e-4a85-b1aa-d32ef986f85c')\"\n",
              "              title=\"Suggest charts.\"\n",
              "              style=\"display:none;\">\n",
              "\n",
              "<svg xmlns=\"http://www.w3.org/2000/svg\" height=\"24px\"viewBox=\"0 0 24 24\"\n",
              "     width=\"24px\">\n",
              "    <g>\n",
              "        <path d=\"M19 3H5c-1.1 0-2 .9-2 2v14c0 1.1.9 2 2 2h14c1.1 0 2-.9 2-2V5c0-1.1-.9-2-2-2zM9 17H7v-7h2v7zm4 0h-2V7h2v10zm4 0h-2v-4h2v4z\"/>\n",
              "    </g>\n",
              "</svg>\n",
              "      </button>\n",
              "    </div>\n",
              "\n",
              "<style>\n",
              "  .colab-df-quickchart {\n",
              "    background-color: #E8F0FE;\n",
              "    border: none;\n",
              "    border-radius: 50%;\n",
              "    cursor: pointer;\n",
              "    display: none;\n",
              "    fill: #1967D2;\n",
              "    height: 32px;\n",
              "    padding: 0 0 0 0;\n",
              "    width: 32px;\n",
              "  }\n",
              "\n",
              "  .colab-df-quickchart:hover {\n",
              "    background-color: #E2EBFA;\n",
              "    box-shadow: 0px 1px 2px rgba(60, 64, 67, 0.3), 0px 1px 3px 1px rgba(60, 64, 67, 0.15);\n",
              "    fill: #174EA6;\n",
              "  }\n",
              "\n",
              "  [theme=dark] .colab-df-quickchart {\n",
              "    background-color: #3B4455;\n",
              "    fill: #D2E3FC;\n",
              "  }\n",
              "\n",
              "  [theme=dark] .colab-df-quickchart:hover {\n",
              "    background-color: #434B5C;\n",
              "    box-shadow: 0px 1px 3px 1px rgba(0, 0, 0, 0.15);\n",
              "    filter: drop-shadow(0px 1px 2px rgba(0, 0, 0, 0.3));\n",
              "    fill: #FFFFFF;\n",
              "  }\n",
              "</style>\n",
              "\n",
              "    <script>\n",
              "      async function quickchart(key) {\n",
              "        const containerElement = document.querySelector('#' + key);\n",
              "        const charts = await google.colab.kernel.invokeFunction(\n",
              "            'suggestCharts', [key], {});\n",
              "      }\n",
              "    </script>\n",
              "\n",
              "      <script>\n",
              "\n",
              "function displayQuickchartButton(domScope) {\n",
              "  let quickchartButtonEl =\n",
              "    domScope.querySelector('#df-71166ecb-664e-4a85-b1aa-d32ef986f85c button.colab-df-quickchart');\n",
              "  quickchartButtonEl.style.display =\n",
              "    google.colab.kernel.accessAllowed ? 'block' : 'none';\n",
              "}\n",
              "\n",
              "        displayQuickchartButton(document);\n",
              "      </script>\n",
              "      <style>\n",
              "    .colab-df-container {\n",
              "      display:flex;\n",
              "      flex-wrap:wrap;\n",
              "      gap: 12px;\n",
              "    }\n",
              "\n",
              "    .colab-df-convert {\n",
              "      background-color: #E8F0FE;\n",
              "      border: none;\n",
              "      border-radius: 50%;\n",
              "      cursor: pointer;\n",
              "      display: none;\n",
              "      fill: #1967D2;\n",
              "      height: 32px;\n",
              "      padding: 0 0 0 0;\n",
              "      width: 32px;\n",
              "    }\n",
              "\n",
              "    .colab-df-convert:hover {\n",
              "      background-color: #E2EBFA;\n",
              "      box-shadow: 0px 1px 2px rgba(60, 64, 67, 0.3), 0px 1px 3px 1px rgba(60, 64, 67, 0.15);\n",
              "      fill: #174EA6;\n",
              "    }\n",
              "\n",
              "    [theme=dark] .colab-df-convert {\n",
              "      background-color: #3B4455;\n",
              "      fill: #D2E3FC;\n",
              "    }\n",
              "\n",
              "    [theme=dark] .colab-df-convert:hover {\n",
              "      background-color: #434B5C;\n",
              "      box-shadow: 0px 1px 3px 1px rgba(0, 0, 0, 0.15);\n",
              "      filter: drop-shadow(0px 1px 2px rgba(0, 0, 0, 0.3));\n",
              "      fill: #FFFFFF;\n",
              "    }\n",
              "  </style>\n",
              "\n",
              "      <script>\n",
              "        const buttonEl =\n",
              "          document.querySelector('#df-1f6c5bca-43f4-46ff-8b1e-aa2bb1f3e60c button.colab-df-convert');\n",
              "        buttonEl.style.display =\n",
              "          google.colab.kernel.accessAllowed ? 'block' : 'none';\n",
              "\n",
              "        async function convertToInteractive(key) {\n",
              "          const element = document.querySelector('#df-1f6c5bca-43f4-46ff-8b1e-aa2bb1f3e60c');\n",
              "          const dataTable =\n",
              "            await google.colab.kernel.invokeFunction('convertToInteractive',\n",
              "                                                     [key], {});\n",
              "          if (!dataTable) return;\n",
              "\n",
              "          const docLinkHtml = 'Like what you see? Visit the ' +\n",
              "            '<a target=\"_blank\" href=https://colab.research.google.com/notebooks/data_table.ipynb>data table notebook</a>'\n",
              "            + ' to learn more about interactive tables.';\n",
              "          element.innerHTML = '';\n",
              "          dataTable['output_type'] = 'display_data';\n",
              "          await google.colab.output.renderOutput(dataTable, element);\n",
              "          const docLink = document.createElement('div');\n",
              "          docLink.innerHTML = docLinkHtml;\n",
              "          element.appendChild(docLink);\n",
              "        }\n",
              "      </script>\n",
              "    </div>\n",
              "  </div>\n"
            ]
          },
          "metadata": {},
          "execution_count": 88
        }
      ],
      "source": [
        "df.corr()"
      ]
    },
    {
      "cell_type": "markdown",
      "metadata": {
        "id": "twQXJwbH68nR"
      },
      "source": [
        "Heatmap"
      ]
    },
    {
      "cell_type": "code",
      "execution_count": null,
      "metadata": {
        "colab": {
          "base_uri": "https://localhost:8080/",
          "height": 667
        },
        "id": "q09My1bu68BQ",
        "outputId": "28ce8fa6-1f29-4f3e-d6b9-7ec4d88d636e"
      },
      "outputs": [
        {
          "output_type": "execute_result",
          "data": {
            "text/plain": [
              "<Axes: >"
            ]
          },
          "metadata": {},
          "execution_count": 89
        },
        {
          "output_type": "display_data",
          "data": {
            "text/plain": [
              "<Figure size 640x480 with 2 Axes>"
            ],
            "image/png": "[encoded data removed]"
          },
          "metadata": {}
        }
      ],
      "source": [
        "sns.heatmap(df.corr(),annot=True)"
      ]
    },
    {
      "cell_type": "markdown",
      "source": [
        "Countplot"
      ],
      "metadata": {
        "id": "xxDsDBMW-gy2"
      }
    },
    {
      "cell_type": "code",
      "execution_count": null,
      "metadata": {
        "colab": {
          "base_uri": "https://localhost:8080/",
          "height": 466
        },
        "id": "x9AXVUTzY0FI",
        "outputId": "ee6d21f9-f956-4049-92d1-db5ba1d56805"
      },
      "outputs": [
        {
          "output_type": "execute_result",
          "data": {
            "text/plain": [
              "<Axes: xlabel='Gender', ylabel='count'>"
            ]
          },
          "metadata": {},
          "execution_count": 90
        },
        {
          "output_type": "display_data",
          "data": {
            "text/plain": [
              "<Figure size 640x480 with 1 Axes>"
            ],
            "image/png": "[encoded data removed]"
          },
          "metadata": {}
        }
      ],
      "source": [
        "sns.countplot(data = df, x = df['Gender'])"
      ]
    },
    {
      "cell_type": "code",
      "source": [
        "sns.countplot(data = df, x = 'Device',hue='Subscription Plan')"
      ],
      "metadata": {
        "colab": {
          "base_uri": "https://localhost:8080/",
          "height": 466
        },
        "id": "8GwkC4-FG9YM",
        "outputId": "47d328bc-e3c5-47d2-d1db-0ac1a173cd1a"
      },
      "execution_count": null,
      "outputs": [
        {
          "output_type": "execute_result",
          "data": {
            "text/plain": [
              "<Axes: xlabel='Device', ylabel='count'>"
            ]
          },
          "metadata": {},
          "execution_count": 91
        },
        {
          "output_type": "display_data",
          "data": {
            "text/plain": [
              "<Figure size 640x480 with 1 Axes>"
            ],
            "image/png": "[encoded data removed]"
          },
          "metadata": {}
        }
      ]
    },
    {
      "cell_type": "code",
      "source": [
        "sns.countplot(data = df, x = 'Age')"
      ],
      "metadata": {
        "colab": {
          "base_uri": "https://localhost:8080/",
          "height": 466
        },
        "id": "pVZetXzdonDL",
        "outputId": "102a76e7-2bf5-48e4-fd68-b725a0f5a61f"
      },
      "execution_count": null,
      "outputs": [
        {
          "output_type": "execute_result",
          "data": {
            "text/plain": [
              "<Axes: xlabel='Age', ylabel='count'>"
            ]
          },
          "metadata": {},
          "execution_count": 92
        },
        {
          "output_type": "display_data",
          "data": {
            "text/plain": [
              "<Figure size 640x480 with 1 Axes>"
            ],
            "image/png": "[encoded data removed]"
          },
          "metadata": {}
        }
      ]
    },
    {
      "cell_type": "code",
      "execution_count": null,
      "metadata": {
        "colab": {
          "base_uri": "https://localhost:8080/",
          "height": 466
        },
        "id": "47SEVPd_Y7bv",
        "outputId": "a5b7106e-5586-49d8-87c0-b3d302e9271a"
      },
      "outputs": [
        {
          "output_type": "execute_result",
          "data": {
            "text/plain": [
              "<Axes: xlabel='Gender', ylabel='Total Movies/Shows Watched'>"
            ]
          },
          "metadata": {},
          "execution_count": 93
        },
        {
          "output_type": "display_data",
          "data": {
            "text/plain": [
              "<Figure size 640x480 with 1 Axes>"
            ],
            "image/png": "[encoded data removed]"
          },
          "metadata": {}
        }
      ],
      "source": [
        "sns.boxplot(data=df, x='Gender', y = 'Total Movies/Shows Watched')"
      ]
    },
    {
      "cell_type": "markdown",
      "source": [
        "PIE CHART"
      ],
      "metadata": {
        "id": "e4dLRGdxmDr3"
      }
    },
    {
      "cell_type": "code",
      "source": [
        "subscription_counts = df['Subscription Plan'].value_counts()\n",
        "\n",
        "# Get the labels and counts for the pie chart\n",
        "labels = subscription_counts.index\n",
        "counts = subscription_counts.values\n",
        "\n",
        "plt.pie(counts, labels=labels, autopct='%1.1f%%')\n",
        "plt.title('Subscription Distribution')\n",
        "plt.show()"
      ],
      "metadata": {
        "colab": {
          "base_uri": "https://localhost:8080/",
          "height": 428
        },
        "id": "iSUHGEzojZxp",
        "outputId": "366e2039-5809-4dca-cdb9-e2cb84b90c3c"
      },
      "execution_count": null,
      "outputs": [
        {
          "output_type": "display_data",
          "data": {
            "text/plain": [
              "<Figure size 640x480 with 1 Axes>"
            ],
            "image/png": "[encoded data removed]"
          },
          "metadata": {}
        }
      ]
    },
    {
      "cell_type": "code",
      "source": [
        "plt.subplot(2,1,1)\n",
        "sns.scatterplot(data=df, x='Total Movies/Shows Watched',y='Age' )\n",
        "plt.title('Age vs Total Watched')\n",
        "\n",
        "plt.subplot(2,1,2)\n",
        "sns.scatterplot(data=df, x='Total Movies/Shows Watched',y='No. of Recommendations Viewed')\n",
        "plt.title('Recommendations Viewed vs Total Watched')\n",
        "\n",
        "plt.tight_layout()"
      ],
      "metadata": {
        "colab": {
          "base_uri": "https://localhost:8080/",
          "height": 486
        },
        "id": "VAQhm77msuq3",
        "outputId": "30c64eab-2ae0-489d-8fb4-2fdcf95ed799"
      },
      "execution_count": null,
      "outputs": [
        {
          "output_type": "display_data",
          "data": {
            "text/plain": [
              "<Figure size 640x480 with 2 Axes>"
            ],
            "image/png": "[encoded data removed]"
          },
          "metadata": {}
        }
      ]
    },
    {
      "cell_type": "code",
      "execution_count": null,
      "metadata": {
        "colab": {
          "base_uri": "https://localhost:8080/",
          "height": 466
        },
        "id": "UIM6Si2SHNYP",
        "outputId": "10e54ded-6d85-46c2-cb71-d929767cf62f"
      },
      "outputs": [
        {
          "output_type": "execute_result",
          "data": {
            "text/plain": [
              "<Axes: xlabel='Gender', ylabel='Monthly Revenue ($)'>"
            ]
          },
          "metadata": {},
          "execution_count": 96
        },
        {
          "output_type": "display_data",
          "data": {
            "text/plain": [
              "<Figure size 640x480 with 1 Axes>"
            ],
            "image/png": "[encoded data removed]"
          },
          "metadata": {}
        }
      ],
      "source": [
        "sns.boxplot(data=df, x='Gender', y = 'Monthly Revenue ($)')"
      ]
    },
    {
      "cell_type": "code",
      "execution_count": null,
      "metadata": {
        "id": "8JsvMxF1BqSg"
      },
      "outputs": [],
      "source": [
        "#outlier removing\n",
        "\n",
        "def detect_outliers_iqr_feature(data, feature, threshold=1.5):\n",
        "\n",
        "    feature_data = data[feature]\n",
        "    quartile_1 = np.percentile(feature_data, 25)\n",
        "    quartile_3 = np.percentile(feature_data, 75)\n",
        "    iqr = quartile_3 - quartile_1\n",
        "    lower_bound = quartile_1 - threshold * iqr\n",
        "    upper_bound = quartile_3 + threshold * iqr\n",
        "\n",
        "    outliers = np.where((feature_data < lower_bound) | (feature_data > upper_bound))[0]\n",
        "    return outliers\n",
        "\n",
        "def remove_outliers_iqr_feature(data, feature, threshold=1.5):\n",
        "    outliers = detect_outliers_iqr_feature(data, feature, threshold)\n",
        "    cleaned_data = data.drop(outliers)\n",
        "\n",
        "    return cleaned_data\n"
      ]
    },
    {
      "cell_type": "code",
      "execution_count": null,
      "metadata": {
        "colab": {
          "base_uri": "https://localhost:8080/"
        },
        "id": "twg2JIozFl2K",
        "outputId": "baf52c94-05ed-46b7-ce70-dce56f3025fd"
      },
      "outputs": [
        {
          "output_type": "stream",
          "name": "stdout",
          "text": [
            "Indices of outliers in Total Movies/Shows Watched : []\n",
            "Data with outliers removed from: Total Movies/Shows Watched\n",
            "Indices of outliers in Age : []\n",
            "Data with outliers removed from: Age\n",
            "Indices of outliers in Plan Duration (Months) : []\n",
            "Data with outliers removed from: Plan Duration (Months)\n",
            "Indices of outliers in No. of Recommendations Viewed : []\n",
            "Data with outliers removed from: No. of Recommendations Viewed\n",
            "Indices of outliers in Monthly Revenue ($) : [227 545]\n",
            "Data with outliers removed from: Monthly Revenue ($)\n"
          ]
        }
      ],
      "source": [
        "feature_name = ['Total Movies/Shows Watched','Age','Plan Duration (Months)','No. of Recommendations Viewed','Monthly Revenue ($)']\n",
        "for i in feature_name:\n",
        "   outliers = detect_outliers_iqr_feature(df, i)\n",
        "   print(\"Indices of outliers in\", i, \":\", outliers)\n",
        "\n",
        "   cleaned_data = remove_outliers_iqr_feature(df, i)\n",
        "   print(\"Data with outliers removed from:\", i)\n",
        "df=cleaned_data\n"
      ]
    },
    {
      "cell_type": "code",
      "execution_count": null,
      "metadata": {
        "colab": {
          "base_uri": "https://localhost:8080/",
          "height": 466
        },
        "id": "yWYEuFtcqoyy",
        "outputId": "069228de-9a2b-495f-feee-15f81baa53f3"
      },
      "outputs": [
        {
          "output_type": "execute_result",
          "data": {
            "text/plain": [
              "<Axes: xlabel='Gender', ylabel='Monthly Revenue ($)'>"
            ]
          },
          "metadata": {},
          "execution_count": 99
        },
        {
          "output_type": "display_data",
          "data": {
            "text/plain": [
              "<Figure size 640x480 with 1 Axes>"
            ],
            "image/png": "[encoded data removed]"
          },
          "metadata": {}
        }
      ],
      "source": [
        "sns.boxplot(data=df, x='Gender', y = 'Monthly Revenue ($)')"
      ]
    },
    {
      "cell_type": "markdown",
      "metadata": {
        "id": "97d8Ggx7p23c"
      },
      "source": [
        "**3.Data Preprocessing**"
      ]
    },
    {
      "cell_type": "markdown",
      "metadata": {
        "id": "jqdB4OqDNUja"
      },
      "source": [
        "handling missing values, encoding categorical variables, normalizing numerical features"
      ]
    },
    {
      "cell_type": "code",
      "execution_count": null,
      "metadata": {
        "id": "sC-uca69Nbke"
      },
      "outputs": [],
      "source": [
        "# Convert to datetime\n",
        "df['Join Date'] = pd.to_datetime(df['Join Date'])\n",
        "df['Last Payment'] = pd.to_datetime(df['Last Payment'])\n",
        "\n",
        "# Create duration feature\n",
        "df['Duration'] = (df['Last Payment'] - df['Join Date']).dt.days"
      ]
    },
    {
      "cell_type": "code",
      "execution_count": null,
      "metadata": {
        "colab": {
          "base_uri": "https://localhost:8080/",
          "height": 320
        },
        "id": "WV8OZlEKN6MT",
        "outputId": "f5053705-17c8-4ca9-a756-54761dad1d49"
      },
      "outputs": [
        {
          "output_type": "execute_result",
          "data": {
            "text/plain": [
              "   User ID Subscription Plan  Monthly Revenue ($)    Country  Age  Gender  \\\n",
              "0        1           Premium                15.99        USA   28    Male   \n",
              "1        2          Standard                11.99     Canada   35  Female   \n",
              "2        3             Basic                 8.99         UK   42    Male   \n",
              "3        4           Premium                15.99  Australia   23  Female   \n",
              "4        5             Basic                 8.99        USA   31    Male   \n",
              "\n",
              "     Device  Plan Duration (Months)  Total Movies/Shows Watched  \\\n",
              "0  Smart TV                      12                       200.0   \n",
              "1    Laptop                       6                       150.0   \n",
              "2    Mobile                       3                       100.0   \n",
              "3    Laptop                      12                       180.0   \n",
              "4  Smart TV                       6                        90.0   \n",
              "\n",
              "  Genre Preference  No. of Recommendations Viewed  \\\n",
              "0            Drama                           10.0   \n",
              "1           Comedy                            5.0   \n",
              "2           Action                            3.0   \n",
              "3           Comedy                            8.0   \n",
              "4           Action                            6.0   \n",
              "\n",
              "  % of Recommendations Acted Upon Frequency of Rating  Duration  \n",
              "0                             60%              Weekly      1151  \n",
              "1                             40%             Monthly       915  \n",
              "2                             20%               Never       478  \n",
              "3                             70%             Monthly       982  \n",
              "4                             50%              Weekly       725  "
            ],
            "text/html": [
              "\n",
              "\n",
              "  <div id=\"df-e2d0ebc3-8d38-4c8e-9bea-bd008da7567e\">\n",
              "    <div class=\"colab-df-container\">\n",
              "      <div>\n",
              "<style scoped>\n",
              "    .dataframe tbody tr th:only-of-type {\n",
              "        vertical-align: middle;\n",
              "    }\n",
              "\n",
              "    .dataframe tbody tr th {\n",
              "        vertical-align: top;\n",
              "    }\n",
              "\n",
              "    .dataframe thead th {\n",
              "        text-align: right;\n",
              "    }\n",
              "</style>\n",
              "<table border=\"1\" class=\"dataframe\">\n",
              "  <thead>\n",
              "    <tr style=\"text-align: right;\">\n",
              "      <th></th>\n",
              "      <th>User ID</th>\n",
              "      <th>Subscription Plan</th>\n",
              "      <th>Monthly Revenue ($)</th>\n",
              "      <th>Country</th>\n",
              "      <th>Age</th>\n",
              "      <th>Gender</th>\n",
              "      <th>Device</th>\n",
              "      <th>Plan Duration (Months)</th>\n",
              "      <th>Total Movies/Shows Watched</th>\n",
              "      <th>Genre Preference</th>\n",
              "      <th>No. of Recommendations Viewed</th>\n",
              "      <th>% of Recommendations Acted Upon</th>\n",
              "      <th>Frequency of Rating</th>\n",
              "      <th>Duration</th>\n",
              "    </tr>\n",
              "  </thead>\n",
              "  <tbody>\n",
              "    <tr>\n",
              "      <th>0</th>\n",
              "      <td>1</td>\n",
              "      <td>Premium</td>\n",
              "      <td>15.99</td>\n",
              "      <td>USA</td>\n",
              "      <td>28</td>\n",
              "      <td>Male</td>\n",
              "      <td>Smart TV</td>\n",
              "      <td>12</td>\n",
              "      <td>200.0</td>\n",
              "      <td>Drama</td>\n",
              "      <td>10.0</td>\n",
              "      <td>60%</td>\n",
              "      <td>Weekly</td>\n",
              "      <td>1151</td>\n",
              "    </tr>\n",
              "    <tr>\n",
              "      <th>1</th>\n",
              "      <td>2</td>\n",
              "      <td>Standard</td>\n",
              "      <td>11.99</td>\n",
              "      <td>Canada</td>\n",
              "      <td>35</td>\n",
              "      <td>Female</td>\n",
              "      <td>Laptop</td>\n",
              "      <td>6</td>\n",
              "      <td>150.0</td>\n",
              "      <td>Comedy</td>\n",
              "      <td>5.0</td>\n",
              "      <td>40%</td>\n",
              "      <td>Monthly</td>\n",
              "      <td>915</td>\n",
              "    </tr>\n",
              "    <tr>\n",
              "      <th>2</th>\n",
              "      <td>3</td>\n",
              "      <td>Basic</td>\n",
              "      <td>8.99</td>\n",
              "      <td>UK</td>\n",
              "      <td>42</td>\n",
              "      <td>Male</td>\n",
              "      <td>Mobile</td>\n",
              "      <td>3</td>\n",
              "      <td>100.0</td>\n",
              "      <td>Action</td>\n",
              "      <td>3.0</td>\n",
              "      <td>20%</td>\n",
              "      <td>Never</td>\n",
              "      <td>478</td>\n",
              "    </tr>\n",
              "    <tr>\n",
              "      <th>3</th>\n",
              "      <td>4</td>\n",
              "      <td>Premium</td>\n",
              "      <td>15.99</td>\n",
              "      <td>Australia</td>\n",
              "      <td>23</td>\n",
              "      <td>Female</td>\n",
              "      <td>Laptop</td>\n",
              "      <td>12</td>\n",
              "      <td>180.0</td>\n",
              "      <td>Comedy</td>\n",
              "      <td>8.0</td>\n",
              "      <td>70%</td>\n",
              "      <td>Monthly</td>\n",
              "      <td>982</td>\n",
              "    </tr>\n",
              "    <tr>\n",
              "      <th>4</th>\n",
              "      <td>5</td>\n",
              "      <td>Basic</td>\n",
              "      <td>8.99</td>\n",
              "      <td>USA</td>\n",
              "      <td>31</td>\n",
              "      <td>Male</td>\n",
              "      <td>Smart TV</td>\n",
              "      <td>6</td>\n",
              "      <td>90.0</td>\n",
              "      <td>Action</td>\n",
              "      <td>6.0</td>\n",
              "      <td>50%</td>\n",
              "      <td>Weekly</td>\n",
              "      <td>725</td>\n",
              "    </tr>\n",
              "  </tbody>\n",
              "</table>\n",
              "</div>\n",
              "      <button class=\"colab-df-convert\" onclick=\"convertToInteractive('df-e2d0ebc3-8d38-4c8e-9bea-bd008da7567e')\"\n",
              "              title=\"Convert this dataframe to an interactive table.\"\n",
              "              style=\"display:none;\">\n",
              "\n",
              "  <svg xmlns=\"http://www.w3.org/2000/svg\" height=\"24px\"viewBox=\"0 0 24 24\"\n",
              "       width=\"24px\">\n",
              "    <path d=\"M0 0h24v24H0V0z\" fill=\"none\"/>\n",
              "    <path d=\"M18.56 5.44l.94 2.06.94-2.06 2.06-.94-2.06-.94-.94-2.06-.94 2.06-2.06.94zm-11 1L8.5 8.5l.94-2.06 2.06-.94-2.06-.94L8.5 2.5l-.94 2.06-2.06.94zm10 10l.94 2.06.94-2.06 2.06-.94-2.06-.94-.94-2.06-.94 2.06-2.06.94z\"/><path d=\"M17.41 7.96l-1.37-1.37c-.4-.4-.92-.59-1.43-.59-.52 0-1.04.2-1.43.59L10.3 9.45l-7.72 7.72c-.78.78-.78 2.05 0 2.83L4 21.41c.39.39.9.59 1.41.59.51 0 1.02-.2 1.41-.59l7.78-7.78 2.81-2.81c.8-.78.8-2.07 0-2.86zM5.41 20L4 18.59l7.72-7.72 1.47 1.35L5.41 20z\"/>\n",
              "  </svg>\n",
              "      </button>\n",
              "\n",
              "\n",
              "\n",
              "    <div id=\"df-f4840a3e-86da-4732-b094-71edd4c970d8\">\n",
              "      <button class=\"colab-df-quickchart\" onclick=\"quickchart('df-f4840a3e-86da-4732-b094-71edd4c970d8')\"\n",
              "              title=\"Suggest charts.\"\n",
              "              style=\"display:none;\">\n",
              "\n",
              "<svg xmlns=\"http://www.w3.org/2000/svg\" height=\"24px\"viewBox=\"0 0 24 24\"\n",
              "     width=\"24px\">\n",
              "    <g>\n",
              "        <path d=\"M19 3H5c-1.1 0-2 .9-2 2v14c0 1.1.9 2 2 2h14c1.1 0 2-.9 2-2V5c0-1.1-.9-2-2-2zM9 17H7v-7h2v7zm4 0h-2V7h2v10zm4 0h-2v-4h2v4z\"/>\n",
              "    </g>\n",
              "</svg>\n",
              "      </button>\n",
              "    </div>\n",
              "\n",
              "<style>\n",
              "  .colab-df-quickchart {\n",
              "    background-color: #E8F0FE;\n",
              "    border: none;\n",
              "    border-radius: 50%;\n",
              "    cursor: pointer;\n",
              "    display: none;\n",
              "    fill: #1967D2;\n",
              "    height: 32px;\n",
              "    padding: 0 0 0 0;\n",
              "    width: 32px;\n",
              "  }\n",
              "\n",
              "  .colab-df-quickchart:hover {\n",
              "    background-color: #E2EBFA;\n",
              "    box-shadow: 0px 1px 2px rgba(60, 64, 67, 0.3), 0px 1px 3px 1px rgba(60, 64, 67, 0.15);\n",
              "    fill: #174EA6;\n",
              "  }\n",
              "\n",
              "  [theme=dark] .colab-df-quickchart {\n",
              "    background-color: #3B4455;\n",
              "    fill: #D2E3FC;\n",
              "  }\n",
              "\n",
              "  [theme=dark] .colab-df-quickchart:hover {\n",
              "    background-color: #434B5C;\n",
              "    box-shadow: 0px 1px 3px 1px rgba(0, 0, 0, 0.15);\n",
              "    filter: drop-shadow(0px 1px 2px rgba(0, 0, 0, 0.3));\n",
              "    fill: #FFFFFF;\n",
              "  }\n",
              "</style>\n",
              "\n",
              "    <script>\n",
              "      async function quickchart(key) {\n",
              "        const containerElement = document.querySelector('#' + key);\n",
              "        const charts = await google.colab.kernel.invokeFunction(\n",
              "            'suggestCharts', [key], {});\n",
              "      }\n",
              "    </script>\n",
              "\n",
              "      <script>\n",
              "\n",
              "function displayQuickchartButton(domScope) {\n",
              "  let quickchartButtonEl =\n",
              "    domScope.querySelector('#df-f4840a3e-86da-4732-b094-71edd4c970d8 button.colab-df-quickchart');\n",
              "  quickchartButtonEl.style.display =\n",
              "    google.colab.kernel.accessAllowed ? 'block' : 'none';\n",
              "}\n",
              "\n",
              "        displayQuickchartButton(document);\n",
              "      </script>\n",
              "      <style>\n",
              "    .colab-df-container {\n",
              "      display:flex;\n",
              "      flex-wrap:wrap;\n",
              "      gap: 12px;\n",
              "    }\n",
              "\n",
              "    .colab-df-convert {\n",
              "      background-color: #E8F0FE;\n",
              "      border: none;\n",
              "      border-radius: 50%;\n",
              "      cursor: pointer;\n",
              "      display: none;\n",
              "      fill: #1967D2;\n",
              "      height: 32px;\n",
              "      padding: 0 0 0 0;\n",
              "      width: 32px;\n",
              "    }\n",
              "\n",
              "    .colab-df-convert:hover {\n",
              "      background-color: #E2EBFA;\n",
              "      box-shadow: 0px 1px 2px rgba(60, 64, 67, 0.3), 0px 1px 3px 1px rgba(60, 64, 67, 0.15);\n",
              "      fill: #174EA6;\n",
              "    }\n",
              "\n",
              "    [theme=dark] .colab-df-convert {\n",
              "      background-color: #3B4455;\n",
              "      fill: #D2E3FC;\n",
              "    }\n",
              "\n",
              "    [theme=dark] .colab-df-convert:hover {\n",
              "      background-color: #434B5C;\n",
              "      box-shadow: 0px 1px 3px 1px rgba(0, 0, 0, 0.15);\n",
              "      filter: drop-shadow(0px 1px 2px rgba(0, 0, 0, 0.3));\n",
              "      fill: #FFFFFF;\n",
              "    }\n",
              "  </style>\n",
              "\n",
              "      <script>\n",
              "        const buttonEl =\n",
              "          document.querySelector('#df-e2d0ebc3-8d38-4c8e-9bea-bd008da7567e button.colab-df-convert');\n",
              "        buttonEl.style.display =\n",
              "          google.colab.kernel.accessAllowed ? 'block' : 'none';\n",
              "\n",
              "        async function convertToInteractive(key) {\n",
              "          const element = document.querySelector('#df-e2d0ebc3-8d38-4c8e-9bea-bd008da7567e');\n",
              "          const dataTable =\n",
              "            await google.colab.kernel.invokeFunction('convertToInteractive',\n",
              "                                                     [key], {});\n",
              "          if (!dataTable) return;\n",
              "\n",
              "          const docLinkHtml = 'Like what you see? Visit the ' +\n",
              "            '<a target=\"_blank\" href=https://colab.research.google.com/notebooks/data_table.ipynb>data table notebook</a>'\n",
              "            + ' to learn more about interactive tables.';\n",
              "          element.innerHTML = '';\n",
              "          dataTable['output_type'] = 'display_data';\n",
              "          await google.colab.output.renderOutput(dataTable, element);\n",
              "          const docLink = document.createElement('div');\n",
              "          docLink.innerHTML = docLinkHtml;\n",
              "          element.appendChild(docLink);\n",
              "        }\n",
              "      </script>\n",
              "    </div>\n",
              "  </div>\n"
            ]
          },
          "metadata": {},
          "execution_count": 101
        }
      ],
      "source": [
        "df.drop(['Join Date','Last Payment'],axis=1,inplace=True)\n",
        "df.head()"
      ]
    },
    {
      "cell_type": "code",
      "execution_count": null,
      "metadata": {
        "colab": {
          "base_uri": "https://localhost:8080/"
        },
        "id": "rXHn8herOW0y",
        "outputId": "f8dbaa04-c421-4b07-d3cd-4de417e86d95"
      },
      "outputs": [
        {
          "output_type": "execute_result",
          "data": {
            "text/plain": [
              "User ID                            0\n",
              "Subscription Plan                  0\n",
              "Monthly Revenue ($)                0\n",
              "Country                            0\n",
              "Age                                0\n",
              "Gender                             0\n",
              "Device                             0\n",
              "Plan Duration (Months)             0\n",
              "Total Movies/Shows Watched         1\n",
              "Genre Preference                   1\n",
              "No. of Recommendations Viewed      2\n",
              "% of Recommendations Acted Upon    1\n",
              "Frequency of Rating                4\n",
              "Duration                           0\n",
              "dtype: int64"
            ]
          },
          "metadata": {},
          "execution_count": 102
        }
      ],
      "source": [
        "#checking for missing values\n",
        "df.isna().sum()"
      ]
    },
    {
      "cell_type": "code",
      "execution_count": null,
      "metadata": {
        "id": "f4qZiZOaQCVj"
      },
      "outputs": [],
      "source": [
        "#filling missing values\n",
        "\n",
        "col=['Total Movies/Shows Watched','Genre Preference','No. of Recommendations Viewed','% of Recommendations Acted Upon','Frequency of Rating']\n",
        "for i in col:\n",
        "  df[i]=df[i].fillna(df[i].mode()[0])"
      ]
    },
    {
      "cell_type": "code",
      "execution_count": null,
      "metadata": {
        "colab": {
          "base_uri": "https://localhost:8080/"
        },
        "id": "6_v-k_FPQ2Uj",
        "outputId": "77091538-c2ee-4a4a-8c3c-793fa6c35c40"
      },
      "outputs": [
        {
          "output_type": "execute_result",
          "data": {
            "text/plain": [
              "User ID                            0\n",
              "Subscription Plan                  0\n",
              "Monthly Revenue ($)                0\n",
              "Country                            0\n",
              "Age                                0\n",
              "Gender                             0\n",
              "Device                             0\n",
              "Plan Duration (Months)             0\n",
              "Total Movies/Shows Watched         0\n",
              "Genre Preference                   0\n",
              "No. of Recommendations Viewed      0\n",
              "% of Recommendations Acted Upon    0\n",
              "Frequency of Rating                0\n",
              "Duration                           0\n",
              "dtype: int64"
            ]
          },
          "metadata": {},
          "execution_count": 104
        }
      ],
      "source": [
        "df.isna().sum()"
      ]
    },
    {
      "cell_type": "code",
      "execution_count": null,
      "metadata": {
        "colab": {
          "base_uri": "https://localhost:8080/"
        },
        "id": "VTuTb4ZZTB00",
        "outputId": "eb03c1e1-4ca4-439f-f141-5282a9ad6031"
      },
      "outputs": [
        {
          "output_type": "execute_result",
          "data": {
            "text/plain": [
              "User ID                              int64\n",
              "Subscription Plan                   object\n",
              "Monthly Revenue ($)                float64\n",
              "Country                             object\n",
              "Age                                  int64\n",
              "Gender                              object\n",
              "Device                              object\n",
              "Plan Duration (Months)               int64\n",
              "Total Movies/Shows Watched         float64\n",
              "Genre Preference                    object\n",
              "No. of Recommendations Viewed      float64\n",
              "% of Recommendations Acted Upon     object\n",
              "Frequency of Rating                 object\n",
              "Duration                             int64\n",
              "dtype: object"
            ]
          },
          "metadata": {},
          "execution_count": 105
        }
      ],
      "source": [
        "#checking datatype\n",
        "df.dtypes"
      ]
    },
    {
      "cell_type": "code",
      "execution_count": null,
      "metadata": {
        "id": "iRGVX9C-Q6N5"
      },
      "outputs": [],
      "source": [
        "# Apply label encoding to the categorical columns\n",
        "sp = LabelEncoder()\n",
        "ce = LabelEncoder()\n",
        "de = LabelEncoder()\n",
        "ge = LabelEncoder()\n",
        "gn = LabelEncoder()\n",
        "fr = LabelEncoder()\n",
        "\n",
        "df['Subscription Plan'] = sp.fit_transform(df['Subscription Plan'])\n",
        "df['Country'] = ce.fit_transform(df['Country'])\n",
        "df['Device'] = de.fit_transform(df['Device'])\n",
        "df['Gender'] = ge.fit_transform(df['Gender'])\n",
        "df['Genre Preference'] = gn.fit_transform(df['Genre Preference'])\n",
        "df['Frequency of Rating'] = fr.fit_transform(df['Frequency of Rating'])"
      ]
    },
    {
      "cell_type": "code",
      "execution_count": null,
      "metadata": {
        "colab": {
          "base_uri": "https://localhost:8080/",
          "height": 222
        },
        "id": "gBzogupRR8L6",
        "outputId": "8aa6bc2d-725b-4ac1-e108-d1213ffc6540"
      },
      "outputs": [
        {
          "output_type": "execute_result",
          "data": {
            "text/plain": [
              "   User ID  Subscription Plan  Monthly Revenue ($)  Country  Age  Gender  \\\n",
              "0        1                  1                15.99        3   28       1   \n",
              "1        2                  2                11.99        1   35       0   \n",
              "2        3                  0                 8.99        2   42       1   \n",
              "\n",
              "   Device  Plan Duration (Months)  Total Movies/Shows Watched  \\\n",
              "0       2                      12                       200.0   \n",
              "1       0                       6                       150.0   \n",
              "2       1                       3                       100.0   \n",
              "\n",
              "   Genre Preference  No. of Recommendations Viewed  \\\n",
              "0                 4                           10.0   \n",
              "1                 1                            5.0   \n",
              "2                 0                            3.0   \n",
              "\n",
              "  % of Recommendations Acted Upon  Frequency of Rating  Duration  \n",
              "0                             60%                    2      1151  \n",
              "1                             40%                    0       915  \n",
              "2                             20%                    1       478  "
            ],
            "text/html": [
              "\n",
              "\n",
              "  <div id=\"df-e0393db4-a1f8-48ea-8891-203bbdcda0a0\">\n",
              "    <div class=\"colab-df-container\">\n",
              "      <div>\n",
              "<style scoped>\n",
              "    .dataframe tbody tr th:only-of-type {\n",
              "        vertical-align: middle;\n",
              "    }\n",
              "\n",
              "    .dataframe tbody tr th {\n",
              "        vertical-align: top;\n",
              "    }\n",
              "\n",
              "    .dataframe thead th {\n",
              "        text-align: right;\n",
              "    }\n",
              "</style>\n",
              "<table border=\"1\" class=\"dataframe\">\n",
              "  <thead>\n",
              "    <tr style=\"text-align: right;\">\n",
              "      <th></th>\n",
              "      <th>User ID</th>\n",
              "      <th>Subscription Plan</th>\n",
              "      <th>Monthly Revenue ($)</th>\n",
              "      <th>Country</th>\n",
              "      <th>Age</th>\n",
              "      <th>Gender</th>\n",
              "      <th>Device</th>\n",
              "      <th>Plan Duration (Months)</th>\n",
              "      <th>Total Movies/Shows Watched</th>\n",
              "      <th>Genre Preference</th>\n",
              "      <th>No. of Recommendations Viewed</th>\n",
              "      <th>% of Recommendations Acted Upon</th>\n",
              "      <th>Frequency of Rating</th>\n",
              "      <th>Duration</th>\n",
              "    </tr>\n",
              "  </thead>\n",
              "  <tbody>\n",
              "    <tr>\n",
              "      <th>0</th>\n",
              "      <td>1</td>\n",
              "      <td>1</td>\n",
              "      <td>15.99</td>\n",
              "      <td>3</td>\n",
              "      <td>28</td>\n",
              "      <td>1</td>\n",
              "      <td>2</td>\n",
              "      <td>12</td>\n",
              "      <td>200.0</td>\n",
              "      <td>4</td>\n",
              "      <td>10.0</td>\n",
              "      <td>60%</td>\n",
              "      <td>2</td>\n",
              "      <td>1151</td>\n",
              "    </tr>\n",
              "    <tr>\n",
              "      <th>1</th>\n",
              "      <td>2</td>\n",
              "      <td>2</td>\n",
              "      <td>11.99</td>\n",
              "      <td>1</td>\n",
              "      <td>35</td>\n",
              "      <td>0</td>\n",
              "      <td>0</td>\n",
              "      <td>6</td>\n",
              "      <td>150.0</td>\n",
              "      <td>1</td>\n",
              "      <td>5.0</td>\n",
              "      <td>40%</td>\n",
              "      <td>0</td>\n",
              "      <td>915</td>\n",
              "    </tr>\n",
              "    <tr>\n",
              "      <th>2</th>\n",
              "      <td>3</td>\n",
              "      <td>0</td>\n",
              "      <td>8.99</td>\n",
              "      <td>2</td>\n",
              "      <td>42</td>\n",
              "      <td>1</td>\n",
              "      <td>1</td>\n",
              "      <td>3</td>\n",
              "      <td>100.0</td>\n",
              "      <td>0</td>\n",
              "      <td>3.0</td>\n",
              "      <td>20%</td>\n",
              "      <td>1</td>\n",
              "      <td>478</td>\n",
              "    </tr>\n",
              "  </tbody>\n",
              "</table>\n",
              "</div>\n",
              "      <button class=\"colab-df-convert\" onclick=\"convertToInteractive('df-e0393db4-a1f8-48ea-8891-203bbdcda0a0')\"\n",
              "              title=\"Convert this dataframe to an interactive table.\"\n",
              "              style=\"display:none;\">\n",
              "\n",
              "  <svg xmlns=\"http://www.w3.org/2000/svg\" height=\"24px\"viewBox=\"0 0 24 24\"\n",
              "       width=\"24px\">\n",
              "    <path d=\"M0 0h24v24H0V0z\" fill=\"none\"/>\n",
              "    <path d=\"M18.56 5.44l.94 2.06.94-2.06 2.06-.94-2.06-.94-.94-2.06-.94 2.06-2.06.94zm-11 1L8.5 8.5l.94-2.06 2.06-.94-2.06-.94L8.5 2.5l-.94 2.06-2.06.94zm10 10l.94 2.06.94-2.06 2.06-.94-2.06-.94-.94-2.06-.94 2.06-2.06.94z\"/><path d=\"M17.41 7.96l-1.37-1.37c-.4-.4-.92-.59-1.43-.59-.52 0-1.04.2-1.43.59L10.3 9.45l-7.72 7.72c-.78.78-.78 2.05 0 2.83L4 21.41c.39.39.9.59 1.41.59.51 0 1.02-.2 1.41-.59l7.78-7.78 2.81-2.81c.8-.78.8-2.07 0-2.86zM5.41 20L4 18.59l7.72-7.72 1.47 1.35L5.41 20z\"/>\n",
              "  </svg>\n",
              "      </button>\n",
              "\n",
              "\n",
              "\n",
              "    <div id=\"df-99b835e0-2e50-46dd-a064-2a5819f6e45f\">\n",
              "      <button class=\"colab-df-quickchart\" onclick=\"quickchart('df-99b835e0-2e50-46dd-a064-2a5819f6e45f')\"\n",
              "              title=\"Suggest charts.\"\n",
              "              style=\"display:none;\">\n",
              "\n",
              "<svg xmlns=\"http://www.w3.org/2000/svg\" height=\"24px\"viewBox=\"0 0 24 24\"\n",
              "     width=\"24px\">\n",
              "    <g>\n",
              "        <path d=\"M19 3H5c-1.1 0-2 .9-2 2v14c0 1.1.9 2 2 2h14c1.1 0 2-.9 2-2V5c0-1.1-.9-2-2-2zM9 17H7v-7h2v7zm4 0h-2V7h2v10zm4 0h-2v-4h2v4z\"/>\n",
              "    </g>\n",
              "</svg>\n",
              "      </button>\n",
              "    </div>\n",
              "\n",
              "<style>\n",
              "  .colab-df-quickchart {\n",
              "    background-color: #E8F0FE;\n",
              "    border: none;\n",
              "    border-radius: 50%;\n",
              "    cursor: pointer;\n",
              "    display: none;\n",
              "    fill: #1967D2;\n",
              "    height: 32px;\n",
              "    padding: 0 0 0 0;\n",
              "    width: 32px;\n",
              "  }\n",
              "\n",
              "  .colab-df-quickchart:hover {\n",
              "    background-color: #E2EBFA;\n",
              "    box-shadow: 0px 1px 2px rgba(60, 64, 67, 0.3), 0px 1px 3px 1px rgba(60, 64, 67, 0.15);\n",
              "    fill: #174EA6;\n",
              "  }\n",
              "\n",
              "  [theme=dark] .colab-df-quickchart {\n",
              "    background-color: #3B4455;\n",
              "    fill: #D2E3FC;\n",
              "  }\n",
              "\n",
              "  [theme=dark] .colab-df-quickchart:hover {\n",
              "    background-color: #434B5C;\n",
              "    box-shadow: 0px 1px 3px 1px rgba(0, 0, 0, 0.15);\n",
              "    filter: drop-shadow(0px 1px 2px rgba(0, 0, 0, 0.3));\n",
              "    fill: #FFFFFF;\n",
              "  }\n",
              "</style>\n",
              "\n",
              "    <script>\n",
              "      async function quickchart(key) {\n",
              "        const containerElement = document.querySelector('#' + key);\n",
              "        const charts = await google.colab.kernel.invokeFunction(\n",
              "            'suggestCharts', [key], {});\n",
              "      }\n",
              "    </script>\n",
              "\n",
              "      <script>\n",
              "\n",
              "function displayQuickchartButton(domScope) {\n",
              "  let quickchartButtonEl =\n",
              "    domScope.querySelector('#df-99b835e0-2e50-46dd-a064-2a5819f6e45f button.colab-df-quickchart');\n",
              "  quickchartButtonEl.style.display =\n",
              "    google.colab.kernel.accessAllowed ? 'block' : 'none';\n",
              "}\n",
              "\n",
              "        displayQuickchartButton(document);\n",
              "      </script>\n",
              "      <style>\n",
              "    .colab-df-container {\n",
              "      display:flex;\n",
              "      flex-wrap:wrap;\n",
              "      gap: 12px;\n",
              "    }\n",
              "\n",
              "    .colab-df-convert {\n",
              "      background-color: #E8F0FE;\n",
              "      border: none;\n",
              "      border-radius: 50%;\n",
              "      cursor: pointer;\n",
              "      display: none;\n",
              "      fill: #1967D2;\n",
              "      height: 32px;\n",
              "      padding: 0 0 0 0;\n",
              "      width: 32px;\n",
              "    }\n",
              "\n",
              "    .colab-df-convert:hover {\n",
              "      background-color: #E2EBFA;\n",
              "      box-shadow: 0px 1px 2px rgba(60, 64, 67, 0.3), 0px 1px 3px 1px rgba(60, 64, 67, 0.15);\n",
              "      fill: #174EA6;\n",
              "    }\n",
              "\n",
              "    [theme=dark] .colab-df-convert {\n",
              "      background-color: #3B4455;\n",
              "      fill: #D2E3FC;\n",
              "    }\n",
              "\n",
              "    [theme=dark] .colab-df-convert:hover {\n",
              "      background-color: #434B5C;\n",
              "      box-shadow: 0px 1px 3px 1px rgba(0, 0, 0, 0.15);\n",
              "      filter: drop-shadow(0px 1px 2px rgba(0, 0, 0, 0.3));\n",
              "      fill: #FFFFFF;\n",
              "    }\n",
              "  </style>\n",
              "\n",
              "      <script>\n",
              "        const buttonEl =\n",
              "          document.querySelector('#df-e0393db4-a1f8-48ea-8891-203bbdcda0a0 button.colab-df-convert');\n",
              "        buttonEl.style.display =\n",
              "          google.colab.kernel.accessAllowed ? 'block' : 'none';\n",
              "\n",
              "        async function convertToInteractive(key) {\n",
              "          const element = document.querySelector('#df-e0393db4-a1f8-48ea-8891-203bbdcda0a0');\n",
              "          const dataTable =\n",
              "            await google.colab.kernel.invokeFunction('convertToInteractive',\n",
              "                                                     [key], {});\n",
              "          if (!dataTable) return;\n",
              "\n",
              "          const docLinkHtml = 'Like what you see? Visit the ' +\n",
              "            '<a target=\"_blank\" href=https://colab.research.google.com/notebooks/data_table.ipynb>data table notebook</a>'\n",
              "            + ' to learn more about interactive tables.';\n",
              "          element.innerHTML = '';\n",
              "          dataTable['output_type'] = 'display_data';\n",
              "          await google.colab.output.renderOutput(dataTable, element);\n",
              "          const docLink = document.createElement('div');\n",
              "          docLink.innerHTML = docLinkHtml;\n",
              "          element.appendChild(docLink);\n",
              "        }\n",
              "      </script>\n",
              "    </div>\n",
              "  </div>\n"
            ]
          },
          "metadata": {},
          "execution_count": 107
        }
      ],
      "source": [
        "df.head(3)"
      ]
    },
    {
      "cell_type": "markdown",
      "metadata": {
        "id": "OgqqKnE1TLVs"
      },
      "source": [
        "since the column '% of Recommendations Acted Upon' is in object type due to '%', hence remove the percentage symbol (%) using string manipulation functions."
      ]
    },
    {
      "cell_type": "code",
      "execution_count": null,
      "metadata": {
        "id": "ZDf3DYrMTJAT"
      },
      "outputs": [],
      "source": [
        "new_column = df['% of Recommendations Acted Upon']\n",
        "\n",
        "# Remove the percentage symbol\n",
        "new_column = new_column.str.replace('%','')"
      ]
    },
    {
      "cell_type": "code",
      "execution_count": null,
      "metadata": {
        "id": "zeveRUzMUB4q"
      },
      "outputs": [],
      "source": [
        "# Convert the column to numeric\n",
        "new_column = pd.to_numeric(new_column)\n",
        "\n",
        "# Update the original dataset with the modified column\n",
        "df['% of Recommendations Acted Upon'] = new_column"
      ]
    },
    {
      "cell_type": "code",
      "execution_count": null,
      "metadata": {
        "colab": {
          "base_uri": "https://localhost:8080/"
        },
        "id": "7Psfdz2wVU3E",
        "outputId": "a505abab-2ae6-4ce8-cc5b-984e504af577"
      },
      "outputs": [
        {
          "output_type": "execute_result",
          "data": {
            "text/plain": [
              "User ID                              int64\n",
              "Subscription Plan                    int64\n",
              "Monthly Revenue ($)                float64\n",
              "Country                              int64\n",
              "Age                                  int64\n",
              "Gender                               int64\n",
              "Device                               int64\n",
              "Plan Duration (Months)               int64\n",
              "Total Movies/Shows Watched         float64\n",
              "Genre Preference                     int64\n",
              "No. of Recommendations Viewed      float64\n",
              "% of Recommendations Acted Upon      int64\n",
              "Frequency of Rating                  int64\n",
              "Duration                             int64\n",
              "dtype: object"
            ]
          },
          "metadata": {},
          "execution_count": 110
        }
      ],
      "source": [
        "df.dtypes"
      ]
    },
    {
      "cell_type": "code",
      "execution_count": null,
      "metadata": {
        "id": "0XcBfOYWVYOO"
      },
      "outputs": [],
      "source": [
        "# #normalizing the data\n",
        "\n",
        "# data=normalize(df)\n",
        "# data"
      ]
    },
    {
      "cell_type": "code",
      "execution_count": null,
      "metadata": {
        "id": "TgGKeOKzVs1W"
      },
      "outputs": [],
      "source": [
        "# df=pd.DataFrame(data,columns=df.columns)\n",
        "# df.head()"
      ]
    },
    {
      "cell_type": "markdown",
      "metadata": {
        "id": "YPrfsbtgqJmo"
      },
      "source": [
        "**4.Model Building**"
      ]
    },
    {
      "cell_type": "markdown",
      "metadata": {
        "id": "ZT6bQgqgjaD4"
      },
      "source": [
        "Apply clustering algorithm (hierarchical clustering) to group users based on their features and behaviors, identifying distinct segments within the data."
      ]
    },
    {
      "cell_type": "markdown",
      "metadata": {
        "id": "96otXPyZTrhB"
      },
      "source": [
        "*Dendrogram*"
      ]
    },
    {
      "cell_type": "code",
      "execution_count": null,
      "metadata": {
        "colab": {
          "base_uri": "https://localhost:8080/",
          "height": 621
        },
        "id": "jVIw1mVLWNKd",
        "outputId": "c78d9185-7481-4c09-fb0f-7ec003fc703c"
      },
      "outputs": [
        {
          "output_type": "display_data",
          "data": {
            "text/plain": [
              "<Figure size 1000x700 with 1 Axes>"
            ],
            "image/png": "[encoded data removed]"
          },
          "metadata": {}
        }
      ],
      "source": [
        "#dendrogram\n",
        "import scipy.cluster.hierarchy as shc\n",
        "import matplotlib.pyplot as plt\n",
        "plt.figure(figsize=(10,7))\n",
        "plt.title('DENDROGRAM')\n",
        "den=shc.dendrogram(shc.linkage(df,method='ward'))\n"
      ]
    },
    {
      "cell_type": "code",
      "execution_count": null,
      "metadata": {
        "id": "iAKqRAddWfOv"
      },
      "outputs": [],
      "source": [
        "cluster=AgglomerativeClustering(n_clusters=3,affinity='euclidean',linkage='ward')\n",
        "y=cluster.fit_predict(df)"
      ]
    },
    {
      "cell_type": "code",
      "execution_count": null,
      "metadata": {
        "colab": {
          "base_uri": "https://localhost:8080/",
          "height": 621
        },
        "id": "myaz_34RXCww",
        "outputId": "b62fa4a2-84ce-417d-e9d6-87b8777bcfb1"
      },
      "outputs": [
        {
          "output_type": "execute_result",
          "data": {
            "text/plain": [
              "<matplotlib.collections.PathCollection at 0x79e9e965dd80>"
            ]
          },
          "metadata": {},
          "execution_count": 115
        },
        {
          "output_type": "display_data",
          "data": {
            "text/plain": [
              "<Figure size 1000x700 with 1 Axes>"
            ],
            "image/png": "[encoded data removed]"
          },
          "metadata": {}
        }
      ],
      "source": [
        "plt.figure(figsize=(10,7))\n",
        "plt.scatter(df['Total Movies/Shows Watched'],df['Duration'],c=cluster.labels_)"
      ]
    },
    {
      "cell_type": "code",
      "execution_count": null,
      "metadata": {
        "colab": {
          "base_uri": "https://localhost:8080/",
          "height": 285
        },
        "id": "DFd23OwLWqk8",
        "outputId": "027a55b9-8e1f-4777-c27d-6115e9ac766b"
      },
      "outputs": [
        {
          "output_type": "execute_result",
          "data": {
            "text/plain": [
              "   User ID  Subscription Plan  Monthly Revenue ($)  Country  Age  Gender  \\\n",
              "0        1                  1                15.99        3   28       1   \n",
              "1        2                  2                11.99        1   35       0   \n",
              "2        3                  0                 8.99        2   42       1   \n",
              "3        4                  1                15.99        0   23       0   \n",
              "4        5                  0                 8.99        3   31       1   \n",
              "\n",
              "   Device  Plan Duration (Months)  Total Movies/Shows Watched  \\\n",
              "0       2                      12                       200.0   \n",
              "1       0                       6                       150.0   \n",
              "2       1                       3                       100.0   \n",
              "3       0                      12                       180.0   \n",
              "4       2                       6                        90.0   \n",
              "\n",
              "   Genre Preference  No. of Recommendations Viewed  \\\n",
              "0                 4                           10.0   \n",
              "1                 1                            5.0   \n",
              "2                 0                            3.0   \n",
              "3                 1                            8.0   \n",
              "4                 0                            6.0   \n",
              "\n",
              "   % of Recommendations Acted Upon  Frequency of Rating  Duration  cluster  \n",
              "0                               60                    2      1151        2  \n",
              "1                               40                    0       915        2  \n",
              "2                               20                    1       478        0  \n",
              "3                               70                    0       982        2  \n",
              "4                               50                    2       725        1  "
            ],
            "text/html": [
              "\n",
              "\n",
              "  <div id=\"df-e21c72a2-b2ce-44e3-a2f8-9eff4ad4d776\">\n",
              "    <div class=\"colab-df-container\">\n",
              "      <div>\n",
              "<style scoped>\n",
              "    .dataframe tbody tr th:only-of-type {\n",
              "        vertical-align: middle;\n",
              "    }\n",
              "\n",
              "    .dataframe tbody tr th {\n",
              "        vertical-align: top;\n",
              "    }\n",
              "\n",
              "    .dataframe thead th {\n",
              "        text-align: right;\n",
              "    }\n",
              "</style>\n",
              "<table border=\"1\" class=\"dataframe\">\n",
              "  <thead>\n",
              "    <tr style=\"text-align: right;\">\n",
              "      <th></th>\n",
              "      <th>User ID</th>\n",
              "      <th>Subscription Plan</th>\n",
              "      <th>Monthly Revenue ($)</th>\n",
              "      <th>Country</th>\n",
              "      <th>Age</th>\n",
              "      <th>Gender</th>\n",
              "      <th>Device</th>\n",
              "      <th>Plan Duration (Months)</th>\n",
              "      <th>Total Movies/Shows Watched</th>\n",
              "      <th>Genre Preference</th>\n",
              "      <th>No. of Recommendations Viewed</th>\n",
              "      <th>% of Recommendations Acted Upon</th>\n",
              "      <th>Frequency of Rating</th>\n",
              "      <th>Duration</th>\n",
              "      <th>cluster</th>\n",
              "    </tr>\n",
              "  </thead>\n",
              "  <tbody>\n",
              "    <tr>\n",
              "      <th>0</th>\n",
              "      <td>1</td>\n",
              "      <td>1</td>\n",
              "      <td>15.99</td>\n",
              "      <td>3</td>\n",
              "      <td>28</td>\n",
              "      <td>1</td>\n",
              "      <td>2</td>\n",
              "      <td>12</td>\n",
              "      <td>200.0</td>\n",
              "      <td>4</td>\n",
              "      <td>10.0</td>\n",
              "      <td>60</td>\n",
              "      <td>2</td>\n",
              "      <td>1151</td>\n",
              "      <td>2</td>\n",
              "    </tr>\n",
              "    <tr>\n",
              "      <th>1</th>\n",
              "      <td>2</td>\n",
              "      <td>2</td>\n",
              "      <td>11.99</td>\n",
              "      <td>1</td>\n",
              "      <td>35</td>\n",
              "      <td>0</td>\n",
              "      <td>0</td>\n",
              "      <td>6</td>\n",
              "      <td>150.0</td>\n",
              "      <td>1</td>\n",
              "      <td>5.0</td>\n",
              "      <td>40</td>\n",
              "      <td>0</td>\n",
              "      <td>915</td>\n",
              "      <td>2</td>\n",
              "    </tr>\n",
              "    <tr>\n",
              "      <th>2</th>\n",
              "      <td>3</td>\n",
              "      <td>0</td>\n",
              "      <td>8.99</td>\n",
              "      <td>2</td>\n",
              "      <td>42</td>\n",
              "      <td>1</td>\n",
              "      <td>1</td>\n",
              "      <td>3</td>\n",
              "      <td>100.0</td>\n",
              "      <td>0</td>\n",
              "      <td>3.0</td>\n",
              "      <td>20</td>\n",
              "      <td>1</td>\n",
              "      <td>478</td>\n",
              "      <td>0</td>\n",
              "    </tr>\n",
              "    <tr>\n",
              "      <th>3</th>\n",
              "      <td>4</td>\n",
              "      <td>1</td>\n",
              "      <td>15.99</td>\n",
              "      <td>0</td>\n",
              "      <td>23</td>\n",
              "      <td>0</td>\n",
              "      <td>0</td>\n",
              "      <td>12</td>\n",
              "      <td>180.0</td>\n",
              "      <td>1</td>\n",
              "      <td>8.0</td>\n",
              "      <td>70</td>\n",
              "      <td>0</td>\n",
              "      <td>982</td>\n",
              "      <td>2</td>\n",
              "    </tr>\n",
              "    <tr>\n",
              "      <th>4</th>\n",
              "      <td>5</td>\n",
              "      <td>0</td>\n",
              "      <td>8.99</td>\n",
              "      <td>3</td>\n",
              "      <td>31</td>\n",
              "      <td>1</td>\n",
              "      <td>2</td>\n",
              "      <td>6</td>\n",
              "      <td>90.0</td>\n",
              "      <td>0</td>\n",
              "      <td>6.0</td>\n",
              "      <td>50</td>\n",
              "      <td>2</td>\n",
              "      <td>725</td>\n",
              "      <td>1</td>\n",
              "    </tr>\n",
              "  </tbody>\n",
              "</table>\n",
              "</div>\n",
              "      <button class=\"colab-df-convert\" onclick=\"convertToInteractive('df-e21c72a2-b2ce-44e3-a2f8-9eff4ad4d776')\"\n",
              "              title=\"Convert this dataframe to an interactive table.\"\n",
              "              style=\"display:none;\">\n",
              "\n",
              "  <svg xmlns=\"http://www.w3.org/2000/svg\" height=\"24px\"viewBox=\"0 0 24 24\"\n",
              "       width=\"24px\">\n",
              "    <path d=\"M0 0h24v24H0V0z\" fill=\"none\"/>\n",
              "    <path d=\"M18.56 5.44l.94 2.06.94-2.06 2.06-.94-2.06-.94-.94-2.06-.94 2.06-2.06.94zm-11 1L8.5 8.5l.94-2.06 2.06-.94-2.06-.94L8.5 2.5l-.94 2.06-2.06.94zm10 10l.94 2.06.94-2.06 2.06-.94-2.06-.94-.94-2.06-.94 2.06-2.06.94z\"/><path d=\"M17.41 7.96l-1.37-1.37c-.4-.4-.92-.59-1.43-.59-.52 0-1.04.2-1.43.59L10.3 9.45l-7.72 7.72c-.78.78-.78 2.05 0 2.83L4 21.41c.39.39.9.59 1.41.59.51 0 1.02-.2 1.41-.59l7.78-7.78 2.81-2.81c.8-.78.8-2.07 0-2.86zM5.41 20L4 18.59l7.72-7.72 1.47 1.35L5.41 20z\"/>\n",
              "  </svg>\n",
              "      </button>\n",
              "\n",
              "\n",
              "\n",
              "    <div id=\"df-6ed18b3a-daaf-4153-b5e4-c29b003dc7b6\">\n",
              "      <button class=\"colab-df-quickchart\" onclick=\"quickchart('df-6ed18b3a-daaf-4153-b5e4-c29b003dc7b6')\"\n",
              "              title=\"Suggest charts.\"\n",
              "              style=\"display:none;\">\n",
              "\n",
              "<svg xmlns=\"http://www.w3.org/2000/svg\" height=\"24px\"viewBox=\"0 0 24 24\"\n",
              "     width=\"24px\">\n",
              "    <g>\n",
              "        <path d=\"M19 3H5c-1.1 0-2 .9-2 2v14c0 1.1.9 2 2 2h14c1.1 0 2-.9 2-2V5c0-1.1-.9-2-2-2zM9 17H7v-7h2v7zm4 0h-2V7h2v10zm4 0h-2v-4h2v4z\"/>\n",
              "    </g>\n",
              "</svg>\n",
              "      </button>\n",
              "    </div>\n",
              "\n",
              "<style>\n",
              "  .colab-df-quickchart {\n",
              "    background-color: #E8F0FE;\n",
              "    border: none;\n",
              "    border-radius: 50%;\n",
              "    cursor: pointer;\n",
              "    display: none;\n",
              "    fill: #1967D2;\n",
              "    height: 32px;\n",
              "    padding: 0 0 0 0;\n",
              "    width: 32px;\n",
              "  }\n",
              "\n",
              "  .colab-df-quickchart:hover {\n",
              "    background-color: #E2EBFA;\n",
              "    box-shadow: 0px 1px 2px rgba(60, 64, 67, 0.3), 0px 1px 3px 1px rgba(60, 64, 67, 0.15);\n",
              "    fill: #174EA6;\n",
              "  }\n",
              "\n",
              "  [theme=dark] .colab-df-quickchart {\n",
              "    background-color: #3B4455;\n",
              "    fill: #D2E3FC;\n",
              "  }\n",
              "\n",
              "  [theme=dark] .colab-df-quickchart:hover {\n",
              "    background-color: #434B5C;\n",
              "    box-shadow: 0px 1px 3px 1px rgba(0, 0, 0, 0.15);\n",
              "    filter: drop-shadow(0px 1px 2px rgba(0, 0, 0, 0.3));\n",
              "    fill: #FFFFFF;\n",
              "  }\n",
              "</style>\n",
              "\n",
              "    <script>\n",
              "      async function quickchart(key) {\n",
              "        const containerElement = document.querySelector('#' + key);\n",
              "        const charts = await google.colab.kernel.invokeFunction(\n",
              "            'suggestCharts', [key], {});\n",
              "      }\n",
              "    </script>\n",
              "\n",
              "      <script>\n",
              "\n",
              "function displayQuickchartButton(domScope) {\n",
              "  let quickchartButtonEl =\n",
              "    domScope.querySelector('#df-6ed18b3a-daaf-4153-b5e4-c29b003dc7b6 button.colab-df-quickchart');\n",
              "  quickchartButtonEl.style.display =\n",
              "    google.colab.kernel.accessAllowed ? 'block' : 'none';\n",
              "}\n",
              "\n",
              "        displayQuickchartButton(document);\n",
              "      </script>\n",
              "      <style>\n",
              "    .colab-df-container {\n",
              "      display:flex;\n",
              "      flex-wrap:wrap;\n",
              "      gap: 12px;\n",
              "    }\n",
              "\n",
              "    .colab-df-convert {\n",
              "      background-color: #E8F0FE;\n",
              "      border: none;\n",
              "      border-radius: 50%;\n",
              "      cursor: pointer;\n",
              "      display: none;\n",
              "      fill: #1967D2;\n",
              "      height: 32px;\n",
              "      padding: 0 0 0 0;\n",
              "      width: 32px;\n",
              "    }\n",
              "\n",
              "    .colab-df-convert:hover {\n",
              "      background-color: #E2EBFA;\n",
              "      box-shadow: 0px 1px 2px rgba(60, 64, 67, 0.3), 0px 1px 3px 1px rgba(60, 64, 67, 0.15);\n",
              "      fill: #174EA6;\n",
              "    }\n",
              "\n",
              "    [theme=dark] .colab-df-convert {\n",
              "      background-color: #3B4455;\n",
              "      fill: #D2E3FC;\n",
              "    }\n",
              "\n",
              "    [theme=dark] .colab-df-convert:hover {\n",
              "      background-color: #434B5C;\n",
              "      box-shadow: 0px 1px 3px 1px rgba(0, 0, 0, 0.15);\n",
              "      filter: drop-shadow(0px 1px 2px rgba(0, 0, 0, 0.3));\n",
              "      fill: #FFFFFF;\n",
              "    }\n",
              "  </style>\n",
              "\n",
              "      <script>\n",
              "        const buttonEl =\n",
              "          document.querySelector('#df-e21c72a2-b2ce-44e3-a2f8-9eff4ad4d776 button.colab-df-convert');\n",
              "        buttonEl.style.display =\n",
              "          google.colab.kernel.accessAllowed ? 'block' : 'none';\n",
              "\n",
              "        async function convertToInteractive(key) {\n",
              "          const element = document.querySelector('#df-e21c72a2-b2ce-44e3-a2f8-9eff4ad4d776');\n",
              "          const dataTable =\n",
              "            await google.colab.kernel.invokeFunction('convertToInteractive',\n",
              "                                                     [key], {});\n",
              "          if (!dataTable) return;\n",
              "\n",
              "          const docLinkHtml = 'Like what you see? Visit the ' +\n",
              "            '<a target=\"_blank\" href=https://colab.research.google.com/notebooks/data_table.ipynb>data table notebook</a>'\n",
              "            + ' to learn more about interactive tables.';\n",
              "          element.innerHTML = '';\n",
              "          dataTable['output_type'] = 'display_data';\n",
              "          await google.colab.output.renderOutput(dataTable, element);\n",
              "          const docLink = document.createElement('div');\n",
              "          docLink.innerHTML = docLinkHtml;\n",
              "          element.appendChild(docLink);\n",
              "        }\n",
              "      </script>\n",
              "    </div>\n",
              "  </div>\n"
            ]
          },
          "metadata": {},
          "execution_count": 116
        }
      ],
      "source": [
        "df['cluster']=y\n",
        "df.head()"
      ]
    },
    {
      "cell_type": "markdown",
      "metadata": {
        "id": "rQgzbHzo5bOl"
      },
      "source": [
        "**Cluster Analysis**"
      ]
    },
    {
      "cell_type": "markdown",
      "metadata": {
        "id": "07yoDwKcmQ4X"
      },
      "source": [
        "To determine the actual order of engagement levels across the clusters."
      ]
    },
    {
      "cell_type": "markdown",
      "metadata": {
        "id": "TI2swxWSgah3"
      },
      "source": [
        "Calculate cluster statistics: Calculate descriptive statistics for each cluster based on relevant features that depending engagement level. This can include measures such as average monthly revenue, total number of movies/shows watched, No. of Recommendations Viewed and duration. Compare these statistics across clusters to identify differences in engagement levels."
      ]
    },
    {
      "cell_type": "code",
      "execution_count": null,
      "metadata": {
        "colab": {
          "base_uri": "https://localhost:8080/"
        },
        "id": "rZeo5jgPgzX_",
        "outputId": "4f661aae-cbc3-4c67-fb3a-25d7c24125b1"
      },
      "outputs": [
        {
          "output_type": "stream",
          "name": "stdout",
          "text": [
            "Cluster 2 statistics:\n",
            "Mean monthly revenue: 15.945555555555558\n",
            "Minimum total number of movies watched: 100.0\n",
            "Standard deviation of reco. viewed: 9.790285383487927\n",
            "Mode of duration:1020\n",
            "\n",
            "Cluster 0 statistics:\n",
            "Mean monthly revenue: 9.805094339622643\n",
            "Minimum total number of movies watched: 50.0\n",
            "Standard deviation of reco. viewed: 1.6719783853218377\n",
            "Mode of duration:395\n",
            "\n",
            "Cluster 1 statistics:\n",
            "Mean monthly revenue: 14.20164021164021\n",
            "Minimum total number of movies watched: 90.0\n",
            "Standard deviation of reco. viewed: 2.7174847983759687\n",
            "Mode of duration:792\n",
            "\n"
          ]
        }
      ],
      "source": [
        "# Iterate over each cluster\n",
        "for cluster_id in df['cluster'].unique():\n",
        "    # Filter data points belonging to the current cluster\n",
        "    cluster_data = df[df['cluster'] == cluster_id]\n",
        "\n",
        "    # Calculate statistics for relevant features\n",
        "    revenue_mean = cluster_data['Monthly Revenue ($)'].mean()\n",
        "    total_watched_min = cluster_data['Total Movies/Shows Watched'].min()\n",
        "    recom_std = cluster_data['No. of Recommendations Viewed'].std()\n",
        "    duration_mode= cluster_data['Duration'].mode()[0]\n",
        "\n",
        "# By using various statistics for different features, can capture different aspects of the data\n",
        "#and gain a comprehensive understanding of the clusters.\n",
        "\n",
        "    # Print or store the statistics for the current cluster\n",
        "    print(f\"Cluster {cluster_id} statistics:\")\n",
        "    print(f\"Mean monthly revenue: {revenue_mean}\")\n",
        "    print(f\"Minimum total number of movies watched: {total_watched_min}\")\n",
        "    print(f\"Standard deviation of reco. viewed: {recom_std}\")\n",
        "    print(f\"Mode of duration:{duration_mode}\")\n",
        "    print()"
      ]
    },
    {
      "cell_type": "markdown",
      "metadata": {
        "id": "uYTp0JEb3fxV"
      },
      "source": [
        "since cluster 2 has a higher statistical value for each features that depends on engagement level and cluster 1 represents lower than that, we can conclude that cluster 2 represents high engagement level,\n",
        "cluster 1 represents medium engagemnt level and\n",
        "cluster 0 represents low engagement level."
      ]
    },
    {
      "cell_type": "code",
      "execution_count": null,
      "metadata": {
        "id": "7zpWwhtswAUu"
      },
      "outputs": [],
      "source": [
        "df['Engagement level']=df['cluster']\n",
        "df.drop(['cluster'],axis=1,inplace=True)"
      ]
    },
    {
      "cell_type": "markdown",
      "metadata": {
        "id": "bn6Ezu1SqcDO"
      },
      "source": [
        "**5.Predictive Modelling**"
      ]
    },
    {
      "cell_type": "markdown",
      "metadata": {
        "id": "DygIW4AHo0dj"
      },
      "source": [
        "Develop machine learning models using the clustered data to predict user engagement levels (high, medium or low)."
      ]
    },
    {
      "cell_type": "markdown",
      "metadata": {
        "id": "myUt2SX0tJyL"
      },
      "source": [
        "*data preprocessing*"
      ]
    },
    {
      "cell_type": "code",
      "execution_count": null,
      "metadata": {
        "id": "NjDkZrZSyQvY"
      },
      "outputs": [],
      "source": [
        "#splitting input and output data\n",
        "X=df.iloc[:,:-1]\n",
        "y=df.iloc[:,-1]"
      ]
    },
    {
      "cell_type": "code",
      "execution_count": null,
      "metadata": {
        "id": "jy238Ehtqe9d"
      },
      "outputs": [],
      "source": [
        "#feature selection"
      ]
    },
    {
      "cell_type": "code",
      "execution_count": null,
      "metadata": {
        "colab": {
          "base_uri": "https://localhost:8080/",
          "height": 305
        },
        "id": "FilQoxG3tHbM",
        "outputId": "e93b8b5e-84bb-4aba-d1a8-fbb3d8d6208f"
      },
      "outputs": [
        {
          "output_type": "execute_result",
          "data": {
            "text/plain": [
              "   User ID  Subscription Plan  Monthly Revenue ($)  Country  Age  Gender  \\\n",
              "0        1                  1                15.99        3   28       1   \n",
              "1        2                  2                11.99        1   35       0   \n",
              "2        3                  0                 8.99        2   42       1   \n",
              "3        4                  1                15.99        0   23       0   \n",
              "4        5                  0                 8.99        3   31       1   \n",
              "\n",
              "   Device  Plan Duration (Months)  Total Movies/Shows Watched  \\\n",
              "0       2                      12                       200.0   \n",
              "1       0                       6                       150.0   \n",
              "2       1                       3                       100.0   \n",
              "3       0                      12                       180.0   \n",
              "4       2                       6                        90.0   \n",
              "\n",
              "   Genre Preference  No. of Recommendations Viewed  \\\n",
              "0                 4                           10.0   \n",
              "1                 1                            5.0   \n",
              "2                 0                            3.0   \n",
              "3                 1                            8.0   \n",
              "4                 0                            6.0   \n",
              "\n",
              "   % of Recommendations Acted Upon  Frequency of Rating  Duration  \\\n",
              "0                               60                    2      1151   \n",
              "1                               40                    0       915   \n",
              "2                               20                    1       478   \n",
              "3                               70                    0       982   \n",
              "4                               50                    2       725   \n",
              "\n",
              "   Engagement level  \n",
              "0                 2  \n",
              "1                 2  \n",
              "2                 0  \n",
              "3                 2  \n",
              "4                 1  "
            ],
            "text/html": [
              "\n",
              "\n",
              "  <div id=\"df-8ae24a75-f8bb-47f9-9106-1ea6c9de175e\">\n",
              "    <div class=\"colab-df-container\">\n",
              "      <div>\n",
              "<style scoped>\n",
              "    .dataframe tbody tr th:only-of-type {\n",
              "        vertical-align: middle;\n",
              "    }\n",
              "\n",
              "    .dataframe tbody tr th {\n",
              "        vertical-align: top;\n",
              "    }\n",
              "\n",
              "    .dataframe thead th {\n",
              "        text-align: right;\n",
              "    }\n",
              "</style>\n",
              "<table border=\"1\" class=\"dataframe\">\n",
              "  <thead>\n",
              "    <tr style=\"text-align: right;\">\n",
              "      <th></th>\n",
              "      <th>User ID</th>\n",
              "      <th>Subscription Plan</th>\n",
              "      <th>Monthly Revenue ($)</th>\n",
              "      <th>Country</th>\n",
              "      <th>Age</th>\n",
              "      <th>Gender</th>\n",
              "      <th>Device</th>\n",
              "      <th>Plan Duration (Months)</th>\n",
              "      <th>Total Movies/Shows Watched</th>\n",
              "      <th>Genre Preference</th>\n",
              "      <th>No. of Recommendations Viewed</th>\n",
              "      <th>% of Recommendations Acted Upon</th>\n",
              "      <th>Frequency of Rating</th>\n",
              "      <th>Duration</th>\n",
              "      <th>Engagement level</th>\n",
              "    </tr>\n",
              "  </thead>\n",
              "  <tbody>\n",
              "    <tr>\n",
              "      <th>0</th>\n",
              "      <td>1</td>\n",
              "      <td>1</td>\n",
              "      <td>15.99</td>\n",
              "      <td>3</td>\n",
              "      <td>28</td>\n",
              "      <td>1</td>\n",
              "      <td>2</td>\n",
              "      <td>12</td>\n",
              "      <td>200.0</td>\n",
              "      <td>4</td>\n",
              "      <td>10.0</td>\n",
              "      <td>60</td>\n",
              "      <td>2</td>\n",
              "      <td>1151</td>\n",
              "      <td>2</td>\n",
              "    </tr>\n",
              "    <tr>\n",
              "      <th>1</th>\n",
              "      <td>2</td>\n",
              "      <td>2</td>\n",
              "      <td>11.99</td>\n",
              "      <td>1</td>\n",
              "      <td>35</td>\n",
              "      <td>0</td>\n",
              "      <td>0</td>\n",
              "      <td>6</td>\n",
              "      <td>150.0</td>\n",
              "      <td>1</td>\n",
              "      <td>5.0</td>\n",
              "      <td>40</td>\n",
              "      <td>0</td>\n",
              "      <td>915</td>\n",
              "      <td>2</td>\n",
              "    </tr>\n",
              "    <tr>\n",
              "      <th>2</th>\n",
              "      <td>3</td>\n",
              "      <td>0</td>\n",
              "      <td>8.99</td>\n",
              "      <td>2</td>\n",
              "      <td>42</td>\n",
              "      <td>1</td>\n",
              "      <td>1</td>\n",
              "      <td>3</td>\n",
              "      <td>100.0</td>\n",
              "      <td>0</td>\n",
              "      <td>3.0</td>\n",
              "      <td>20</td>\n",
              "      <td>1</td>\n",
              "      <td>478</td>\n",
              "      <td>0</td>\n",
              "    </tr>\n",
              "    <tr>\n",
              "      <th>3</th>\n",
              "      <td>4</td>\n",
              "      <td>1</td>\n",
              "      <td>15.99</td>\n",
              "      <td>0</td>\n",
              "      <td>23</td>\n",
              "      <td>0</td>\n",
              "      <td>0</td>\n",
              "      <td>12</td>\n",
              "      <td>180.0</td>\n",
              "      <td>1</td>\n",
              "      <td>8.0</td>\n",
              "      <td>70</td>\n",
              "      <td>0</td>\n",
              "      <td>982</td>\n",
              "      <td>2</td>\n",
              "    </tr>\n",
              "    <tr>\n",
              "      <th>4</th>\n",
              "      <td>5</td>\n",
              "      <td>0</td>\n",
              "      <td>8.99</td>\n",
              "      <td>3</td>\n",
              "      <td>31</td>\n",
              "      <td>1</td>\n",
              "      <td>2</td>\n",
              "      <td>6</td>\n",
              "      <td>90.0</td>\n",
              "      <td>0</td>\n",
              "      <td>6.0</td>\n",
              "      <td>50</td>\n",
              "      <td>2</td>\n",
              "      <td>725</td>\n",
              "      <td>1</td>\n",
              "    </tr>\n",
              "  </tbody>\n",
              "</table>\n",
              "</div>\n",
              "      <button class=\"colab-df-convert\" onclick=\"convertToInteractive('df-8ae24a75-f8bb-47f9-9106-1ea6c9de175e')\"\n",
              "              title=\"Convert this dataframe to an interactive table.\"\n",
              "              style=\"display:none;\">\n",
              "\n",
              "  <svg xmlns=\"http://www.w3.org/2000/svg\" height=\"24px\"viewBox=\"0 0 24 24\"\n",
              "       width=\"24px\">\n",
              "    <path d=\"M0 0h24v24H0V0z\" fill=\"none\"/>\n",
              "    <path d=\"M18.56 5.44l.94 2.06.94-2.06 2.06-.94-2.06-.94-.94-2.06-.94 2.06-2.06.94zm-11 1L8.5 8.5l.94-2.06 2.06-.94-2.06-.94L8.5 2.5l-.94 2.06-2.06.94zm10 10l.94 2.06.94-2.06 2.06-.94-2.06-.94-.94-2.06-.94 2.06-2.06.94z\"/><path d=\"M17.41 7.96l-1.37-1.37c-.4-.4-.92-.59-1.43-.59-.52 0-1.04.2-1.43.59L10.3 9.45l-7.72 7.72c-.78.78-.78 2.05 0 2.83L4 21.41c.39.39.9.59 1.41.59.51 0 1.02-.2 1.41-.59l7.78-7.78 2.81-2.81c.8-.78.8-2.07 0-2.86zM5.41 20L4 18.59l7.72-7.72 1.47 1.35L5.41 20z\"/>\n",
              "  </svg>\n",
              "      </button>\n",
              "\n",
              "\n",
              "\n",
              "    <div id=\"df-f377229e-04bc-4a66-aa54-40fb5ae74529\">\n",
              "      <button class=\"colab-df-quickchart\" onclick=\"quickchart('df-f377229e-04bc-4a66-aa54-40fb5ae74529')\"\n",
              "              title=\"Suggest charts.\"\n",
              "              style=\"display:none;\">\n",
              "\n",
              "<svg xmlns=\"http://www.w3.org/2000/svg\" height=\"24px\"viewBox=\"0 0 24 24\"\n",
              "     width=\"24px\">\n",
              "    <g>\n",
              "        <path d=\"M19 3H5c-1.1 0-2 .9-2 2v14c0 1.1.9 2 2 2h14c1.1 0 2-.9 2-2V5c0-1.1-.9-2-2-2zM9 17H7v-7h2v7zm4 0h-2V7h2v10zm4 0h-2v-4h2v4z\"/>\n",
              "    </g>\n",
              "</svg>\n",
              "      </button>\n",
              "    </div>\n",
              "\n",
              "<style>\n",
              "  .colab-df-quickchart {\n",
              "    background-color: #E8F0FE;\n",
              "    border: none;\n",
              "    border-radius: 50%;\n",
              "    cursor: pointer;\n",
              "    display: none;\n",
              "    fill: #1967D2;\n",
              "    height: 32px;\n",
              "    padding: 0 0 0 0;\n",
              "    width: 32px;\n",
              "  }\n",
              "\n",
              "  .colab-df-quickchart:hover {\n",
              "    background-color: #E2EBFA;\n",
              "    box-shadow: 0px 1px 2px rgba(60, 64, 67, 0.3), 0px 1px 3px 1px rgba(60, 64, 67, 0.15);\n",
              "    fill: #174EA6;\n",
              "  }\n",
              "\n",
              "  [theme=dark] .colab-df-quickchart {\n",
              "    background-color: #3B4455;\n",
              "    fill: #D2E3FC;\n",
              "  }\n",
              "\n",
              "  [theme=dark] .colab-df-quickchart:hover {\n",
              "    background-color: #434B5C;\n",
              "    box-shadow: 0px 1px 3px 1px rgba(0, 0, 0, 0.15);\n",
              "    filter: drop-shadow(0px 1px 2px rgba(0, 0, 0, 0.3));\n",
              "    fill: #FFFFFF;\n",
              "  }\n",
              "</style>\n",
              "\n",
              "    <script>\n",
              "      async function quickchart(key) {\n",
              "        const containerElement = document.querySelector('#' + key);\n",
              "        const charts = await google.colab.kernel.invokeFunction(\n",
              "            'suggestCharts', [key], {});\n",
              "      }\n",
              "    </script>\n",
              "\n",
              "      <script>\n",
              "\n",
              "function displayQuickchartButton(domScope) {\n",
              "  let quickchartButtonEl =\n",
              "    domScope.querySelector('#df-f377229e-04bc-4a66-aa54-40fb5ae74529 button.colab-df-quickchart');\n",
              "  quickchartButtonEl.style.display =\n",
              "    google.colab.kernel.accessAllowed ? 'block' : 'none';\n",
              "}\n",
              "\n",
              "        displayQuickchartButton(document);\n",
              "      </script>\n",
              "      <style>\n",
              "    .colab-df-container {\n",
              "      display:flex;\n",
              "      flex-wrap:wrap;\n",
              "      gap: 12px;\n",
              "    }\n",
              "\n",
              "    .colab-df-convert {\n",
              "      background-color: #E8F0FE;\n",
              "      border: none;\n",
              "      border-radius: 50%;\n",
              "      cursor: pointer;\n",
              "      display: none;\n",
              "      fill: #1967D2;\n",
              "      height: 32px;\n",
              "      padding: 0 0 0 0;\n",
              "      width: 32px;\n",
              "    }\n",
              "\n",
              "    .colab-df-convert:hover {\n",
              "      background-color: #E2EBFA;\n",
              "      box-shadow: 0px 1px 2px rgba(60, 64, 67, 0.3), 0px 1px 3px 1px rgba(60, 64, 67, 0.15);\n",
              "      fill: #174EA6;\n",
              "    }\n",
              "\n",
              "    [theme=dark] .colab-df-convert {\n",
              "      background-color: #3B4455;\n",
              "      fill: #D2E3FC;\n",
              "    }\n",
              "\n",
              "    [theme=dark] .colab-df-convert:hover {\n",
              "      background-color: #434B5C;\n",
              "      box-shadow: 0px 1px 3px 1px rgba(0, 0, 0, 0.15);\n",
              "      filter: drop-shadow(0px 1px 2px rgba(0, 0, 0, 0.3));\n",
              "      fill: #FFFFFF;\n",
              "    }\n",
              "  </style>\n",
              "\n",
              "      <script>\n",
              "        const buttonEl =\n",
              "          document.querySelector('#df-8ae24a75-f8bb-47f9-9106-1ea6c9de175e button.colab-df-convert');\n",
              "        buttonEl.style.display =\n",
              "          google.colab.kernel.accessAllowed ? 'block' : 'none';\n",
              "\n",
              "        async function convertToInteractive(key) {\n",
              "          const element = document.querySelector('#df-8ae24a75-f8bb-47f9-9106-1ea6c9de175e');\n",
              "          const dataTable =\n",
              "            await google.colab.kernel.invokeFunction('convertToInteractive',\n",
              "                                                     [key], {});\n",
              "          if (!dataTable) return;\n",
              "\n",
              "          const docLinkHtml = 'Like what you see? Visit the ' +\n",
              "            '<a target=\"_blank\" href=https://colab.research.google.com/notebooks/data_table.ipynb>data table notebook</a>'\n",
              "            + ' to learn more about interactive tables.';\n",
              "          element.innerHTML = '';\n",
              "          dataTable['output_type'] = 'display_data';\n",
              "          await google.colab.output.renderOutput(dataTable, element);\n",
              "          const docLink = document.createElement('div');\n",
              "          docLink.innerHTML = docLinkHtml;\n",
              "          element.appendChild(docLink);\n",
              "        }\n",
              "      </script>\n",
              "    </div>\n",
              "  </div>\n"
            ]
          },
          "metadata": {},
          "execution_count": 122
        }
      ],
      "source": [
        "df.head()"
      ]
    },
    {
      "cell_type": "code",
      "execution_count": null,
      "metadata": {
        "colab": {
          "base_uri": "https://localhost:8080/",
          "height": 775
        },
        "id": "qbHJVR4hvOgQ",
        "outputId": "1b3d7895-5189-432d-e4a9-b9693c41bed3"
      },
      "outputs": [
        {
          "output_type": "execute_result",
          "data": {
            "text/plain": [
              "                                  User ID  Subscription Plan  \\\n",
              "User ID                          1.000000          -0.015733   \n",
              "Subscription Plan               -0.015733           1.000000   \n",
              "Monthly Revenue ($)             -0.004714           0.465156   \n",
              "Country                         -0.005837           0.511786   \n",
              "Age                              0.024024           0.231523   \n",
              "Gender                          -0.002337          -0.220774   \n",
              "Device                           0.006612           0.064684   \n",
              "Plan Duration (Months)          -0.008631           0.424762   \n",
              "Total Movies/Shows Watched      -0.000705           0.474486   \n",
              "Genre Preference                 0.215783          -0.342748   \n",
              "No. of Recommendations Viewed   -0.011152           0.265613   \n",
              "% of Recommendations Acted Upon  0.016265           0.513444   \n",
              "Frequency of Rating             -0.004146          -0.309879   \n",
              "Duration                        -0.014908           0.244193   \n",
              "Engagement level                -0.007712           0.338508   \n",
              "\n",
              "                                 Monthly Revenue ($)   Country       Age  \\\n",
              "User ID                                    -0.004714 -0.005837  0.024024   \n",
              "Subscription Plan                           0.465156  0.511786  0.231523   \n",
              "Monthly Revenue ($)                         1.000000 -0.151136 -0.010160   \n",
              "Country                                    -0.151136  1.000000  0.122535   \n",
              "Age                                        -0.010160  0.122535  1.000000   \n",
              "Gender                                      0.083256 -0.667776  0.267776   \n",
              "Device                                     -0.062937 -0.167973  0.127483   \n",
              "Plan Duration (Months)                      0.903505 -0.063274  0.095887   \n",
              "Total Movies/Shows Watched                  0.883112 -0.006247  0.080165   \n",
              "Genre Preference                           -0.335232 -0.022779 -0.145282   \n",
              "No. of Recommendations Viewed               0.570470 -0.015117  0.065586   \n",
              "% of Recommendations Acted Upon             0.833492  0.127663  0.083561   \n",
              "Frequency of Rating                         0.082304 -0.503045 -0.339239   \n",
              "Duration                                    0.750150 -0.209021  0.011105   \n",
              "Engagement level                            0.832801 -0.138650  0.091057   \n",
              "\n",
              "                                   Gender    Device  Plan Duration (Months)  \\\n",
              "User ID                         -0.002337  0.006612               -0.008631   \n",
              "Subscription Plan               -0.220774  0.064684                0.424762   \n",
              "Monthly Revenue ($)              0.083256 -0.062937                0.903505   \n",
              "Country                         -0.667776 -0.167973               -0.063274   \n",
              "Age                              0.267776  0.127483                0.095887   \n",
              "Gender                           1.000000  0.068655                0.214425   \n",
              "Device                           0.068655  1.000000               -0.144830   \n",
              "Plan Duration (Months)           0.214425 -0.144830                1.000000   \n",
              "Total Movies/Shows Watched       0.170292 -0.198496                0.934740   \n",
              "Genre Preference                 0.001031  0.137471               -0.275489   \n",
              "No. of Recommendations Viewed    0.162997 -0.184926                0.679552   \n",
              "% of Recommendations Acted Upon  0.053619 -0.249677                0.883889   \n",
              "Frequency of Rating              0.255077  0.200804               -0.010679   \n",
              "Duration                         0.099469 -0.013840                0.653698   \n",
              "Engagement level                 0.143369 -0.108483                0.757087   \n",
              "\n",
              "                                 Total Movies/Shows Watched  Genre Preference  \\\n",
              "User ID                                           -0.000705          0.215783   \n",
              "Subscription Plan                                  0.474486         -0.342748   \n",
              "Monthly Revenue ($)                                0.883112         -0.335232   \n",
              "Country                                           -0.006247         -0.022779   \n",
              "Age                                                0.080165         -0.145282   \n",
              "Gender                                             0.170292          0.001031   \n",
              "Device                                            -0.198496          0.137471   \n",
              "Plan Duration (Months)                             0.934740         -0.275489   \n",
              "Total Movies/Shows Watched                         1.000000         -0.303442   \n",
              "Genre Preference                                  -0.303442          1.000000   \n",
              "No. of Recommendations Viewed                      0.636873         -0.214419   \n",
              "% of Recommendations Acted Upon                    0.940189         -0.266742   \n",
              "Frequency of Rating                               -0.030756          0.009643   \n",
              "Duration                                           0.577280         -0.204446   \n",
              "Engagement level                                   0.696270         -0.259138   \n",
              "\n",
              "                                 No. of Recommendations Viewed  \\\n",
              "User ID                                              -0.011152   \n",
              "Subscription Plan                                     0.265613   \n",
              "Monthly Revenue ($)                                   0.570470   \n",
              "Country                                              -0.015117   \n",
              "Age                                                   0.065586   \n",
              "Gender                                                0.162997   \n",
              "Device                                               -0.184926   \n",
              "Plan Duration (Months)                                0.679552   \n",
              "Total Movies/Shows Watched                            0.636873   \n",
              "Genre Preference                                     -0.214419   \n",
              "No. of Recommendations Viewed                         1.000000   \n",
              "% of Recommendations Acted Upon                       0.626308   \n",
              "Frequency of Rating                                  -0.011966   \n",
              "Duration                                              0.389064   \n",
              "Engagement level                                      0.483468   \n",
              "\n",
              "                                 % of Recommendations Acted Upon  \\\n",
              "User ID                                                 0.016265   \n",
              "Subscription Plan                                       0.513444   \n",
              "Monthly Revenue ($)                                     0.833492   \n",
              "Country                                                 0.127663   \n",
              "Age                                                     0.083561   \n",
              "Gender                                                  0.053619   \n",
              "Device                                                 -0.249677   \n",
              "Plan Duration (Months)                                  0.883889   \n",
              "Total Movies/Shows Watched                              0.940189   \n",
              "Genre Preference                                       -0.266742   \n",
              "No. of Recommendations Viewed                           0.626308   \n",
              "% of Recommendations Acted Upon                         1.000000   \n",
              "Frequency of Rating                                    -0.156064   \n",
              "Duration                                                0.477120   \n",
              "Engagement level                                        0.607405   \n",
              "\n",
              "                                 Frequency of Rating  Duration  \\\n",
              "User ID                                    -0.004146 -0.014908   \n",
              "Subscription Plan                          -0.309879  0.244193   \n",
              "Monthly Revenue ($)                         0.082304  0.750150   \n",
              "Country                                    -0.503045 -0.209021   \n",
              "Age                                        -0.339239  0.011105   \n",
              "Gender                                      0.255077  0.099469   \n",
              "Device                                      0.200804 -0.013840   \n",
              "Plan Duration (Months)                     -0.010679  0.653698   \n",
              "Total Movies/Shows Watched                 -0.030756  0.577280   \n",
              "Genre Preference                            0.009643 -0.204446   \n",
              "No. of Recommendations Viewed              -0.011966  0.389064   \n",
              "% of Recommendations Acted Upon            -0.156064  0.477120   \n",
              "Frequency of Rating                         1.000000  0.276365   \n",
              "Duration                                    0.276365  1.000000   \n",
              "Engagement level                            0.207247  0.916653   \n",
              "\n",
              "                                 Engagement level  \n",
              "User ID                                 -0.007712  \n",
              "Subscription Plan                        0.338508  \n",
              "Monthly Revenue ($)                      0.832801  \n",
              "Country                                 -0.138650  \n",
              "Age                                      0.091057  \n",
              "Gender                                   0.143369  \n",
              "Device                                  -0.108483  \n",
              "Plan Duration (Months)                   0.757087  \n",
              "Total Movies/Shows Watched               0.696270  \n",
              "Genre Preference                        -0.259138  \n",
              "No. of Recommendations Viewed            0.483468  \n",
              "% of Recommendations Acted Upon          0.607405  \n",
              "Frequency of Rating                      0.207247  \n",
              "Duration                                 0.916653  \n",
              "Engagement level                         1.000000  "
            ],
            "text/html": [
              "\n",
              "\n",
              "  <div id=\"df-edf237f6-eedd-444e-8707-74bebbdd1954\">\n",
              "    <div class=\"colab-df-container\">\n",
              "      <div>\n",
              "<style scoped>\n",
              "    .dataframe tbody tr th:only-of-type {\n",
              "        vertical-align: middle;\n",
              "    }\n",
              "\n",
              "    .dataframe tbody tr th {\n",
              "        vertical-align: top;\n",
              "    }\n",
              "\n",
              "    .dataframe thead th {\n",
              "        text-align: right;\n",
              "    }\n",
              "</style>\n",
              "<table border=\"1\" class=\"dataframe\">\n",
              "  <thead>\n",
              "    <tr style=\"text-align: right;\">\n",
              "      <th></th>\n",
              "      <th>User ID</th>\n",
              "      <th>Subscription Plan</th>\n",
              "      <th>Monthly Revenue ($)</th>\n",
              "      <th>Country</th>\n",
              "      <th>Age</th>\n",
              "      <th>Gender</th>\n",
              "      <th>Device</th>\n",
              "      <th>Plan Duration (Months)</th>\n",
              "      <th>Total Movies/Shows Watched</th>\n",
              "      <th>Genre Preference</th>\n",
              "      <th>No. of Recommendations Viewed</th>\n",
              "      <th>% of Recommendations Acted Upon</th>\n",
              "      <th>Frequency of Rating</th>\n",
              "      <th>Duration</th>\n",
              "      <th>Engagement level</th>\n",
              "    </tr>\n",
              "  </thead>\n",
              "  <tbody>\n",
              "    <tr>\n",
              "      <th>User ID</th>\n",
              "      <td>1.000000</td>\n",
              "      <td>-0.015733</td>\n",
              "      <td>-0.004714</td>\n",
              "      <td>-0.005837</td>\n",
              "      <td>0.024024</td>\n",
              "      <td>-0.002337</td>\n",
              "      <td>0.006612</td>\n",
              "      <td>-0.008631</td>\n",
              "      <td>-0.000705</td>\n",
              "      <td>0.215783</td>\n",
              "      <td>-0.011152</td>\n",
              "      <td>0.016265</td>\n",
              "      <td>-0.004146</td>\n",
              "      <td>-0.014908</td>\n",
              "      <td>-0.007712</td>\n",
              "    </tr>\n",
              "    <tr>\n",
              "      <th>Subscription Plan</th>\n",
              "      <td>-0.015733</td>\n",
              "      <td>1.000000</td>\n",
              "      <td>0.465156</td>\n",
              "      <td>0.511786</td>\n",
              "      <td>0.231523</td>\n",
              "      <td>-0.220774</td>\n",
              "      <td>0.064684</td>\n",
              "      <td>0.424762</td>\n",
              "      <td>0.474486</td>\n",
              "      <td>-0.342748</td>\n",
              "      <td>0.265613</td>\n",
              "      <td>0.513444</td>\n",
              "      <td>-0.309879</td>\n",
              "      <td>0.244193</td>\n",
              "      <td>0.338508</td>\n",
              "    </tr>\n",
              "    <tr>\n",
              "      <th>Monthly Revenue ($)</th>\n",
              "      <td>-0.004714</td>\n",
              "      <td>0.465156</td>\n",
              "      <td>1.000000</td>\n",
              "      <td>-0.151136</td>\n",
              "      <td>-0.010160</td>\n",
              "      <td>0.083256</td>\n",
              "      <td>-0.062937</td>\n",
              "      <td>0.903505</td>\n",
              "      <td>0.883112</td>\n",
              "      <td>-0.335232</td>\n",
              "      <td>0.570470</td>\n",
              "      <td>0.833492</td>\n",
              "      <td>0.082304</td>\n",
              "      <td>0.750150</td>\n",
              "      <td>0.832801</td>\n",
              "    </tr>\n",
              "    <tr>\n",
              "      <th>Country</th>\n",
              "      <td>-0.005837</td>\n",
              "      <td>0.511786</td>\n",
              "      <td>-0.151136</td>\n",
              "      <td>1.000000</td>\n",
              "      <td>0.122535</td>\n",
              "      <td>-0.667776</td>\n",
              "      <td>-0.167973</td>\n",
              "      <td>-0.063274</td>\n",
              "      <td>-0.006247</td>\n",
              "      <td>-0.022779</td>\n",
              "      <td>-0.015117</td>\n",
              "      <td>0.127663</td>\n",
              "      <td>-0.503045</td>\n",
              "      <td>-0.209021</td>\n",
              "      <td>-0.138650</td>\n",
              "    </tr>\n",
              "    <tr>\n",
              "      <th>Age</th>\n",
              "      <td>0.024024</td>\n",
              "      <td>0.231523</td>\n",
              "      <td>-0.010160</td>\n",
              "      <td>0.122535</td>\n",
              "      <td>1.000000</td>\n",
              "      <td>0.267776</td>\n",
              "      <td>0.127483</td>\n",
              "      <td>0.095887</td>\n",
              "      <td>0.080165</td>\n",
              "      <td>-0.145282</td>\n",
              "      <td>0.065586</td>\n",
              "      <td>0.083561</td>\n",
              "      <td>-0.339239</td>\n",
              "      <td>0.011105</td>\n",
              "      <td>0.091057</td>\n",
              "    </tr>\n",
              "    <tr>\n",
              "      <th>Gender</th>\n",
              "      <td>-0.002337</td>\n",
              "      <td>-0.220774</td>\n",
              "      <td>0.083256</td>\n",
              "      <td>-0.667776</td>\n",
              "      <td>0.267776</td>\n",
              "      <td>1.000000</td>\n",
              "      <td>0.068655</td>\n",
              "      <td>0.214425</td>\n",
              "      <td>0.170292</td>\n",
              "      <td>0.001031</td>\n",
              "      <td>0.162997</td>\n",
              "      <td>0.053619</td>\n",
              "      <td>0.255077</td>\n",
              "      <td>0.099469</td>\n",
              "      <td>0.143369</td>\n",
              "    </tr>\n",
              "    <tr>\n",
              "      <th>Device</th>\n",
              "      <td>0.006612</td>\n",
              "      <td>0.064684</td>\n",
              "      <td>-0.062937</td>\n",
              "      <td>-0.167973</td>\n",
              "      <td>0.127483</td>\n",
              "      <td>0.068655</td>\n",
              "      <td>1.000000</td>\n",
              "      <td>-0.144830</td>\n",
              "      <td>-0.198496</td>\n",
              "      <td>0.137471</td>\n",
              "      <td>-0.184926</td>\n",
              "      <td>-0.249677</td>\n",
              "      <td>0.200804</td>\n",
              "      <td>-0.013840</td>\n",
              "      <td>-0.108483</td>\n",
              "    </tr>\n",
              "    <tr>\n",
              "      <th>Plan Duration (Months)</th>\n",
              "      <td>-0.008631</td>\n",
              "      <td>0.424762</td>\n",
              "      <td>0.903505</td>\n",
              "      <td>-0.063274</td>\n",
              "      <td>0.095887</td>\n",
              "      <td>0.214425</td>\n",
              "      <td>-0.144830</td>\n",
              "      <td>1.000000</td>\n",
              "      <td>0.934740</td>\n",
              "      <td>-0.275489</td>\n",
              "      <td>0.679552</td>\n",
              "      <td>0.883889</td>\n",
              "      <td>-0.010679</td>\n",
              "      <td>0.653698</td>\n",
              "      <td>0.757087</td>\n",
              "    </tr>\n",
              "    <tr>\n",
              "      <th>Total Movies/Shows Watched</th>\n",
              "      <td>-0.000705</td>\n",
              "      <td>0.474486</td>\n",
              "      <td>0.883112</td>\n",
              "      <td>-0.006247</td>\n",
              "      <td>0.080165</td>\n",
              "      <td>0.170292</td>\n",
              "      <td>-0.198496</td>\n",
              "      <td>0.934740</td>\n",
              "      <td>1.000000</td>\n",
              "      <td>-0.303442</td>\n",
              "      <td>0.636873</td>\n",
              "      <td>0.940189</td>\n",
              "      <td>-0.030756</td>\n",
              "      <td>0.577280</td>\n",
              "      <td>0.696270</td>\n",
              "    </tr>\n",
              "    <tr>\n",
              "      <th>Genre Preference</th>\n",
              "      <td>0.215783</td>\n",
              "      <td>-0.342748</td>\n",
              "      <td>-0.335232</td>\n",
              "      <td>-0.022779</td>\n",
              "      <td>-0.145282</td>\n",
              "      <td>0.001031</td>\n",
              "      <td>0.137471</td>\n",
              "      <td>-0.275489</td>\n",
              "      <td>-0.303442</td>\n",
              "      <td>1.000000</td>\n",
              "      <td>-0.214419</td>\n",
              "      <td>-0.266742</td>\n",
              "      <td>0.009643</td>\n",
              "      <td>-0.204446</td>\n",
              "      <td>-0.259138</td>\n",
              "    </tr>\n",
              "    <tr>\n",
              "      <th>No. of Recommendations Viewed</th>\n",
              "      <td>-0.011152</td>\n",
              "      <td>0.265613</td>\n",
              "      <td>0.570470</td>\n",
              "      <td>-0.015117</td>\n",
              "      <td>0.065586</td>\n",
              "      <td>0.162997</td>\n",
              "      <td>-0.184926</td>\n",
              "      <td>0.679552</td>\n",
              "      <td>0.636873</td>\n",
              "      <td>-0.214419</td>\n",
              "      <td>1.000000</td>\n",
              "      <td>0.626308</td>\n",
              "      <td>-0.011966</td>\n",
              "      <td>0.389064</td>\n",
              "      <td>0.483468</td>\n",
              "    </tr>\n",
              "    <tr>\n",
              "      <th>% of Recommendations Acted Upon</th>\n",
              "      <td>0.016265</td>\n",
              "      <td>0.513444</td>\n",
              "      <td>0.833492</td>\n",
              "      <td>0.127663</td>\n",
              "      <td>0.083561</td>\n",
              "      <td>0.053619</td>\n",
              "      <td>-0.249677</td>\n",
              "      <td>0.883889</td>\n",
              "      <td>0.940189</td>\n",
              "      <td>-0.266742</td>\n",
              "      <td>0.626308</td>\n",
              "      <td>1.000000</td>\n",
              "      <td>-0.156064</td>\n",
              "      <td>0.477120</td>\n",
              "      <td>0.607405</td>\n",
              "    </tr>\n",
              "    <tr>\n",
              "      <th>Frequency of Rating</th>\n",
              "      <td>-0.004146</td>\n",
              "      <td>-0.309879</td>\n",
              "      <td>0.082304</td>\n",
              "      <td>-0.503045</td>\n",
              "      <td>-0.339239</td>\n",
              "      <td>0.255077</td>\n",
              "      <td>0.200804</td>\n",
              "      <td>-0.010679</td>\n",
              "      <td>-0.030756</td>\n",
              "      <td>0.009643</td>\n",
              "      <td>-0.011966</td>\n",
              "      <td>-0.156064</td>\n",
              "      <td>1.000000</td>\n",
              "      <td>0.276365</td>\n",
              "      <td>0.207247</td>\n",
              "    </tr>\n",
              "    <tr>\n",
              "      <th>Duration</th>\n",
              "      <td>-0.014908</td>\n",
              "      <td>0.244193</td>\n",
              "      <td>0.750150</td>\n",
              "      <td>-0.209021</td>\n",
              "      <td>0.011105</td>\n",
              "      <td>0.099469</td>\n",
              "      <td>-0.013840</td>\n",
              "      <td>0.653698</td>\n",
              "      <td>0.577280</td>\n",
              "      <td>-0.204446</td>\n",
              "      <td>0.389064</td>\n",
              "      <td>0.477120</td>\n",
              "      <td>0.276365</td>\n",
              "      <td>1.000000</td>\n",
              "      <td>0.916653</td>\n",
              "    </tr>\n",
              "    <tr>\n",
              "      <th>Engagement level</th>\n",
              "      <td>-0.007712</td>\n",
              "      <td>0.338508</td>\n",
              "      <td>0.832801</td>\n",
              "      <td>-0.138650</td>\n",
              "      <td>0.091057</td>\n",
              "      <td>0.143369</td>\n",
              "      <td>-0.108483</td>\n",
              "      <td>0.757087</td>\n",
              "      <td>0.696270</td>\n",
              "      <td>-0.259138</td>\n",
              "      <td>0.483468</td>\n",
              "      <td>0.607405</td>\n",
              "      <td>0.207247</td>\n",
              "      <td>0.916653</td>\n",
              "      <td>1.000000</td>\n",
              "    </tr>\n",
              "  </tbody>\n",
              "</table>\n",
              "</div>\n",
              "      <button class=\"colab-df-convert\" onclick=\"convertToInteractive('df-edf237f6-eedd-444e-8707-74bebbdd1954')\"\n",
              "              title=\"Convert this dataframe to an interactive table.\"\n",
              "              style=\"display:none;\">\n",
              "\n",
              "  <svg xmlns=\"http://www.w3.org/2000/svg\" height=\"24px\"viewBox=\"0 0 24 24\"\n",
              "       width=\"24px\">\n",
              "    <path d=\"M0 0h24v24H0V0z\" fill=\"none\"/>\n",
              "    <path d=\"M18.56 5.44l.94 2.06.94-2.06 2.06-.94-2.06-.94-.94-2.06-.94 2.06-2.06.94zm-11 1L8.5 8.5l.94-2.06 2.06-.94-2.06-.94L8.5 2.5l-.94 2.06-2.06.94zm10 10l.94 2.06.94-2.06 2.06-.94-2.06-.94-.94-2.06-.94 2.06-2.06.94z\"/><path d=\"M17.41 7.96l-1.37-1.37c-.4-.4-.92-.59-1.43-.59-.52 0-1.04.2-1.43.59L10.3 9.45l-7.72 7.72c-.78.78-.78 2.05 0 2.83L4 21.41c.39.39.9.59 1.41.59.51 0 1.02-.2 1.41-.59l7.78-7.78 2.81-2.81c.8-.78.8-2.07 0-2.86zM5.41 20L4 18.59l7.72-7.72 1.47 1.35L5.41 20z\"/>\n",
              "  </svg>\n",
              "      </button>\n",
              "\n",
              "\n",
              "\n",
              "    <div id=\"df-0711f5e9-3122-4c09-908d-ecde2464f570\">\n",
              "      <button class=\"colab-df-quickchart\" onclick=\"quickchart('df-0711f5e9-3122-4c09-908d-ecde2464f570')\"\n",
              "              title=\"Suggest charts.\"\n",
              "              style=\"display:none;\">\n",
              "\n",
              "<svg xmlns=\"http://www.w3.org/2000/svg\" height=\"24px\"viewBox=\"0 0 24 24\"\n",
              "     width=\"24px\">\n",
              "    <g>\n",
              "        <path d=\"M19 3H5c-1.1 0-2 .9-2 2v14c0 1.1.9 2 2 2h14c1.1 0 2-.9 2-2V5c0-1.1-.9-2-2-2zM9 17H7v-7h2v7zm4 0h-2V7h2v10zm4 0h-2v-4h2v4z\"/>\n",
              "    </g>\n",
              "</svg>\n",
              "      </button>\n",
              "    </div>\n",
              "\n",
              "<style>\n",
              "  .colab-df-quickchart {\n",
              "    background-color: #E8F0FE;\n",
              "    border: none;\n",
              "    border-radius: 50%;\n",
              "    cursor: pointer;\n",
              "    display: none;\n",
              "    fill: #1967D2;\n",
              "    height: 32px;\n",
              "    padding: 0 0 0 0;\n",
              "    width: 32px;\n",
              "  }\n",
              "\n",
              "  .colab-df-quickchart:hover {\n",
              "    background-color: #E2EBFA;\n",
              "    box-shadow: 0px 1px 2px rgba(60, 64, 67, 0.3), 0px 1px 3px 1px rgba(60, 64, 67, 0.15);\n",
              "    fill: #174EA6;\n",
              "  }\n",
              "\n",
              "  [theme=dark] .colab-df-quickchart {\n",
              "    background-color: #3B4455;\n",
              "    fill: #D2E3FC;\n",
              "  }\n",
              "\n",
              "  [theme=dark] .colab-df-quickchart:hover {\n",
              "    background-color: #434B5C;\n",
              "    box-shadow: 0px 1px 3px 1px rgba(0, 0, 0, 0.15);\n",
              "    filter: drop-shadow(0px 1px 2px rgba(0, 0, 0, 0.3));\n",
              "    fill: #FFFFFF;\n",
              "  }\n",
              "</style>\n",
              "\n",
              "    <script>\n",
              "      async function quickchart(key) {\n",
              "        const containerElement = document.querySelector('#' + key);\n",
              "        const charts = await google.colab.kernel.invokeFunction(\n",
              "            'suggestCharts', [key], {});\n",
              "      }\n",
              "    </script>\n",
              "\n",
              "      <script>\n",
              "\n",
              "function displayQuickchartButton(domScope) {\n",
              "  let quickchartButtonEl =\n",
              "    domScope.querySelector('#df-0711f5e9-3122-4c09-908d-ecde2464f570 button.colab-df-quickchart');\n",
              "  quickchartButtonEl.style.display =\n",
              "    google.colab.kernel.accessAllowed ? 'block' : 'none';\n",
              "}\n",
              "\n",
              "        displayQuickchartButton(document);\n",
              "      </script>\n",
              "      <style>\n",
              "    .colab-df-container {\n",
              "      display:flex;\n",
              "      flex-wrap:wrap;\n",
              "      gap: 12px;\n",
              "    }\n",
              "\n",
              "    .colab-df-convert {\n",
              "      background-color: #E8F0FE;\n",
              "      border: none;\n",
              "      border-radius: 50%;\n",
              "      cursor: pointer;\n",
              "      display: none;\n",
              "      fill: #1967D2;\n",
              "      height: 32px;\n",
              "      padding: 0 0 0 0;\n",
              "      width: 32px;\n",
              "    }\n",
              "\n",
              "    .colab-df-convert:hover {\n",
              "      background-color: #E2EBFA;\n",
              "      box-shadow: 0px 1px 2px rgba(60, 64, 67, 0.3), 0px 1px 3px 1px rgba(60, 64, 67, 0.15);\n",
              "      fill: #174EA6;\n",
              "    }\n",
              "\n",
              "    [theme=dark] .colab-df-convert {\n",
              "      background-color: #3B4455;\n",
              "      fill: #D2E3FC;\n",
              "    }\n",
              "\n",
              "    [theme=dark] .colab-df-convert:hover {\n",
              "      background-color: #434B5C;\n",
              "      box-shadow: 0px 1px 3px 1px rgba(0, 0, 0, 0.15);\n",
              "      filter: drop-shadow(0px 1px 2px rgba(0, 0, 0, 0.3));\n",
              "      fill: #FFFFFF;\n",
              "    }\n",
              "  </style>\n",
              "\n",
              "      <script>\n",
              "        const buttonEl =\n",
              "          document.querySelector('#df-edf237f6-eedd-444e-8707-74bebbdd1954 button.colab-df-convert');\n",
              "        buttonEl.style.display =\n",
              "          google.colab.kernel.accessAllowed ? 'block' : 'none';\n",
              "\n",
              "        async function convertToInteractive(key) {\n",
              "          const element = document.querySelector('#df-edf237f6-eedd-444e-8707-74bebbdd1954');\n",
              "          const dataTable =\n",
              "            await google.colab.kernel.invokeFunction('convertToInteractive',\n",
              "                                                     [key], {});\n",
              "          if (!dataTable) return;\n",
              "\n",
              "          const docLinkHtml = 'Like what you see? Visit the ' +\n",
              "            '<a target=\"_blank\" href=https://colab.research.google.com/notebooks/data_table.ipynb>data table notebook</a>'\n",
              "            + ' to learn more about interactive tables.';\n",
              "          element.innerHTML = '';\n",
              "          dataTable['output_type'] = 'display_data';\n",
              "          await google.colab.output.renderOutput(dataTable, element);\n",
              "          const docLink = document.createElement('div');\n",
              "          docLink.innerHTML = docLinkHtml;\n",
              "          element.appendChild(docLink);\n",
              "        }\n",
              "      </script>\n",
              "    </div>\n",
              "  </div>\n"
            ]
          },
          "metadata": {},
          "execution_count": 123
        }
      ],
      "source": [
        "df.corr()"
      ]
    },
    {
      "cell_type": "markdown",
      "source": [
        "HEATMAP"
      ],
      "metadata": {
        "id": "emKN8PtrB9GM"
      }
    },
    {
      "cell_type": "code",
      "source": [
        "plt.figure(figsize=(12, 8))\n",
        "sns.heatmap(df.corr(),annot=True)\n"
      ],
      "metadata": {
        "colab": {
          "base_uri": "https://localhost:8080/",
          "height": 934
        },
        "id": "pkO_ZkzqAuKF",
        "outputId": "f0147542-6af0-4f89-990d-70803714ed7f"
      },
      "execution_count": null,
      "outputs": [
        {
          "output_type": "execute_result",
          "data": {
            "text/plain": [
              "<Axes: >"
            ]
          },
          "metadata": {},
          "execution_count": 124
        },
        {
          "output_type": "display_data",
          "data": {
            "text/plain": [
              "<Figure size 1200x800 with 2 Axes>"
            ],
            "image/png": "[encoded data removed]"
          },
          "metadata": {}
        }
      ]
    },
    {
      "cell_type": "markdown",
      "metadata": {
        "id": "L8_zAyOQwqXc"
      },
      "source": [
        "here features like user id, country, gender and device have less correlation compared to others"
      ]
    },
    {
      "cell_type": "code",
      "execution_count": null,
      "metadata": {
        "id": "lHUtvlktw5RC"
      },
      "outputs": [],
      "source": [
        "#feature selection:\n",
        "\n",
        "from sklearn.feature_selection import f_regression, SelectKBest\n",
        "\n",
        "# Applying SelectKBest class to extract top 10 best features\n",
        "fs = SelectKBest(score_func=f_regression,k=10)\n",
        "# Applying feature selection\n",
        "fit = fs.fit(X,y)"
      ]
    },
    {
      "cell_type": "markdown",
      "metadata": {
        "id": "UrI_INVlzMlc"
      },
      "source": [
        "Here, the features of the data will be ranked according to the ranking metrics of the f-regressor module. So let us now use the fitted instance and observe how each of the features of the data is ranked according to the F-statistic."
      ]
    },
    {
      "cell_type": "code",
      "execution_count": null,
      "metadata": {
        "colab": {
          "base_uri": "https://localhost:8080/"
        },
        "id": "x04bCVyAzN4g",
        "outputId": "1b5bab34-63bb-40f0-bea2-c3bdcfd36fb6"
      },
      "outputs": [
        {
          "output_type": "stream",
          "name": "stdout",
          "text": [
            "                     Input_Features      F_Score\n",
            "13                         Duration  2850.842462\n",
            "2               Monthly Revenue ($)  1226.682006\n",
            "7            Plan Duration (Months)   727.857485\n",
            "8        Total Movies/Shows Watched   510.002690\n",
            "11  % of Recommendations Acted Upon   316.873860\n",
            "10    No. of Recommendations Viewed   165.333219\n",
            "1                 Subscription Plan    70.144336\n",
            "9                  Genre Preference    39.016654\n",
            "12              Frequency of Rating    24.324263\n",
            "5                            Gender    11.374369\n"
          ]
        }
      ],
      "source": [
        "features_score = pd.DataFrame(fit.scores_)\n",
        "features = pd.DataFrame(X.columns)\n",
        "feature_score = pd.concat([features,features_score],axis=1)\n",
        "# Assigning column names\n",
        "feature_score.columns = [\"Input_Features\",\"F_Score\"]\n",
        "print(feature_score.nlargest(10,columns=\"F_Score\"))"
      ]
    },
    {
      "cell_type": "markdown",
      "metadata": {
        "id": "RsMhnsp8z5Hw"
      },
      "source": [
        "we had 15 columns as features. now we made 10 best features using f_regression feature selection method"
      ]
    },
    {
      "cell_type": "code",
      "execution_count": null,
      "metadata": {
        "colab": {
          "base_uri": "https://localhost:8080/"
        },
        "id": "rOtMfAsEzv8B",
        "outputId": "b15cac0c-a4b0-4202-a40c-4b08df390d34"
      },
      "outputs": [
        {
          "output_type": "execute_result",
          "data": {
            "text/plain": [
              "Index(['User ID', 'Subscription Plan', 'Monthly Revenue ($)', 'Country', 'Age',\n",
              "       'Gender', 'Device', 'Plan Duration (Months)',\n",
              "       'Total Movies/Shows Watched', 'Genre Preference',\n",
              "       'No. of Recommendations Viewed', '% of Recommendations Acted Upon',\n",
              "       'Frequency of Rating', 'Duration'],\n",
              "      dtype='object')"
            ]
          },
          "metadata": {},
          "execution_count": 127
        }
      ],
      "source": [
        "X.columns"
      ]
    },
    {
      "cell_type": "code",
      "execution_count": null,
      "metadata": {
        "colab": {
          "base_uri": "https://localhost:8080/",
          "height": 502
        },
        "id": "-5s2xIB8ziXl",
        "outputId": "ba9cb7a1-4fd3-4a6c-ceaa-4d9bcc3b5a7e"
      },
      "outputs": [
        {
          "output_type": "execute_result",
          "data": {
            "text/plain": [
              "     Subscription Plan  Monthly Revenue ($)  Age  Plan Duration (Months)  \\\n",
              "0                    1                15.99   28                      12   \n",
              "1                    2                11.99   35                       6   \n",
              "2                    0                 8.99   42                       3   \n",
              "3                    1                15.99   23                      12   \n",
              "4                    0                 8.99   31                       6   \n",
              "..                 ...                  ...  ...                     ...   \n",
              "540                  2                11.99   30                       6   \n",
              "541                  1                15.99   35                      12   \n",
              "542                  0                 8.99   29                       3   \n",
              "543                  1                15.99   41                      12   \n",
              "544                  0                 8.99   55                      12   \n",
              "\n",
              "     Total Movies/Shows Watched  Genre Preference  \\\n",
              "0                         200.0                 4   \n",
              "1                         150.0                 1   \n",
              "2                         100.0                 0   \n",
              "3                         180.0                 1   \n",
              "4                          90.0                 0   \n",
              "..                          ...               ...   \n",
              "540                       140.0                 7   \n",
              "541                       180.0                 5   \n",
              "542                        90.0                 1   \n",
              "543                       200.0                 6   \n",
              "544                       250.0                 4   \n",
              "\n",
              "     No. of Recommendations Viewed  % of Recommendations Acted Upon  \\\n",
              "0                             10.0                               60   \n",
              "1                              5.0                               40   \n",
              "2                              3.0                               20   \n",
              "3                              8.0                               70   \n",
              "4                              6.0                               50   \n",
              "..                             ...                              ...   \n",
              "540                            6.0                               50   \n",
              "541                            8.0                               60   \n",
              "542                            4.0                               40   \n",
              "543                           10.0                               70   \n",
              "544                            3.0                               54   \n",
              "\n",
              "     Frequency of Rating  Duration  \n",
              "0                      2      1151  \n",
              "1                      0       915  \n",
              "2                      1       478  \n",
              "3                      0       982  \n",
              "4                      2       725  \n",
              "..                   ...       ...  \n",
              "540                    0       238  \n",
              "541                    2       830  \n",
              "542                    1       335  \n",
              "543                    0       999  \n",
              "544                    0       558  \n",
              "\n",
              "[544 rows x 10 columns]"
            ],
            "text/html": [
              "\n",
              "\n",
              "  <div id=\"df-0f919517-b12e-4adf-b7dd-50d31edc577f\">\n",
              "    <div class=\"colab-df-container\">\n",
              "      <div>\n",
              "<style scoped>\n",
              "    .dataframe tbody tr th:only-of-type {\n",
              "        vertical-align: middle;\n",
              "    }\n",
              "\n",
              "    .dataframe tbody tr th {\n",
              "        vertical-align: top;\n",
              "    }\n",
              "\n",
              "    .dataframe thead th {\n",
              "        text-align: right;\n",
              "    }\n",
              "</style>\n",
              "<table border=\"1\" class=\"dataframe\">\n",
              "  <thead>\n",
              "    <tr style=\"text-align: right;\">\n",
              "      <th></th>\n",
              "      <th>Subscription Plan</th>\n",
              "      <th>Monthly Revenue ($)</th>\n",
              "      <th>Age</th>\n",
              "      <th>Plan Duration (Months)</th>\n",
              "      <th>Total Movies/Shows Watched</th>\n",
              "      <th>Genre Preference</th>\n",
              "      <th>No. of Recommendations Viewed</th>\n",
              "      <th>% of Recommendations Acted Upon</th>\n",
              "      <th>Frequency of Rating</th>\n",
              "      <th>Duration</th>\n",
              "    </tr>\n",
              "  </thead>\n",
              "  <tbody>\n",
              "    <tr>\n",
              "      <th>0</th>\n",
              "      <td>1</td>\n",
              "      <td>15.99</td>\n",
              "      <td>28</td>\n",
              "      <td>12</td>\n",
              "      <td>200.0</td>\n",
              "      <td>4</td>\n",
              "      <td>10.0</td>\n",
              "      <td>60</td>\n",
              "      <td>2</td>\n",
              "      <td>1151</td>\n",
              "    </tr>\n",
              "    <tr>\n",
              "      <th>1</th>\n",
              "      <td>2</td>\n",
              "      <td>11.99</td>\n",
              "      <td>35</td>\n",
              "      <td>6</td>\n",
              "      <td>150.0</td>\n",
              "      <td>1</td>\n",
              "      <td>5.0</td>\n",
              "      <td>40</td>\n",
              "      <td>0</td>\n",
              "      <td>915</td>\n",
              "    </tr>\n",
              "    <tr>\n",
              "      <th>2</th>\n",
              "      <td>0</td>\n",
              "      <td>8.99</td>\n",
              "      <td>42</td>\n",
              "      <td>3</td>\n",
              "      <td>100.0</td>\n",
              "      <td>0</td>\n",
              "      <td>3.0</td>\n",
              "      <td>20</td>\n",
              "      <td>1</td>\n",
              "      <td>478</td>\n",
              "    </tr>\n",
              "    <tr>\n",
              "      <th>3</th>\n",
              "      <td>1</td>\n",
              "      <td>15.99</td>\n",
              "      <td>23</td>\n",
              "      <td>12</td>\n",
              "      <td>180.0</td>\n",
              "      <td>1</td>\n",
              "      <td>8.0</td>\n",
              "      <td>70</td>\n",
              "      <td>0</td>\n",
              "      <td>982</td>\n",
              "    </tr>\n",
              "    <tr>\n",
              "      <th>4</th>\n",
              "      <td>0</td>\n",
              "      <td>8.99</td>\n",
              "      <td>31</td>\n",
              "      <td>6</td>\n",
              "      <td>90.0</td>\n",
              "      <td>0</td>\n",
              "      <td>6.0</td>\n",
              "      <td>50</td>\n",
              "      <td>2</td>\n",
              "      <td>725</td>\n",
              "    </tr>\n",
              "    <tr>\n",
              "      <th>...</th>\n",
              "      <td>...</td>\n",
              "      <td>...</td>\n",
              "      <td>...</td>\n",
              "      <td>...</td>\n",
              "      <td>...</td>\n",
              "      <td>...</td>\n",
              "      <td>...</td>\n",
              "      <td>...</td>\n",
              "      <td>...</td>\n",
              "      <td>...</td>\n",
              "    </tr>\n",
              "    <tr>\n",
              "      <th>540</th>\n",
              "      <td>2</td>\n",
              "      <td>11.99</td>\n",
              "      <td>30</td>\n",
              "      <td>6</td>\n",
              "      <td>140.0</td>\n",
              "      <td>7</td>\n",
              "      <td>6.0</td>\n",
              "      <td>50</td>\n",
              "      <td>0</td>\n",
              "      <td>238</td>\n",
              "    </tr>\n",
              "    <tr>\n",
              "      <th>541</th>\n",
              "      <td>1</td>\n",
              "      <td>15.99</td>\n",
              "      <td>35</td>\n",
              "      <td>12</td>\n",
              "      <td>180.0</td>\n",
              "      <td>5</td>\n",
              "      <td>8.0</td>\n",
              "      <td>60</td>\n",
              "      <td>2</td>\n",
              "      <td>830</td>\n",
              "    </tr>\n",
              "    <tr>\n",
              "      <th>542</th>\n",
              "      <td>0</td>\n",
              "      <td>8.99</td>\n",
              "      <td>29</td>\n",
              "      <td>3</td>\n",
              "      <td>90.0</td>\n",
              "      <td>1</td>\n",
              "      <td>4.0</td>\n",
              "      <td>40</td>\n",
              "      <td>1</td>\n",
              "      <td>335</td>\n",
              "    </tr>\n",
              "    <tr>\n",
              "      <th>543</th>\n",
              "      <td>1</td>\n",
              "      <td>15.99</td>\n",
              "      <td>41</td>\n",
              "      <td>12</td>\n",
              "      <td>200.0</td>\n",
              "      <td>6</td>\n",
              "      <td>10.0</td>\n",
              "      <td>70</td>\n",
              "      <td>0</td>\n",
              "      <td>999</td>\n",
              "    </tr>\n",
              "    <tr>\n",
              "      <th>544</th>\n",
              "      <td>0</td>\n",
              "      <td>8.99</td>\n",
              "      <td>55</td>\n",
              "      <td>12</td>\n",
              "      <td>250.0</td>\n",
              "      <td>4</td>\n",
              "      <td>3.0</td>\n",
              "      <td>54</td>\n",
              "      <td>0</td>\n",
              "      <td>558</td>\n",
              "    </tr>\n",
              "  </tbody>\n",
              "</table>\n",
              "<p>544 rows × 10 columns</p>\n",
              "</div>\n",
              "      <button class=\"colab-df-convert\" onclick=\"convertToInteractive('df-0f919517-b12e-4adf-b7dd-50d31edc577f')\"\n",
              "              title=\"Convert this dataframe to an interactive table.\"\n",
              "              style=\"display:none;\">\n",
              "\n",
              "  <svg xmlns=\"http://www.w3.org/2000/svg\" height=\"24px\"viewBox=\"0 0 24 24\"\n",
              "       width=\"24px\">\n",
              "    <path d=\"M0 0h24v24H0V0z\" fill=\"none\"/>\n",
              "    <path d=\"M18.56 5.44l.94 2.06.94-2.06 2.06-.94-2.06-.94-.94-2.06-.94 2.06-2.06.94zm-11 1L8.5 8.5l.94-2.06 2.06-.94-2.06-.94L8.5 2.5l-.94 2.06-2.06.94zm10 10l.94 2.06.94-2.06 2.06-.94-2.06-.94-.94-2.06-.94 2.06-2.06.94z\"/><path d=\"M17.41 7.96l-1.37-1.37c-.4-.4-.92-.59-1.43-.59-.52 0-1.04.2-1.43.59L10.3 9.45l-7.72 7.72c-.78.78-.78 2.05 0 2.83L4 21.41c.39.39.9.59 1.41.59.51 0 1.02-.2 1.41-.59l7.78-7.78 2.81-2.81c.8-.78.8-2.07 0-2.86zM5.41 20L4 18.59l7.72-7.72 1.47 1.35L5.41 20z\"/>\n",
              "  </svg>\n",
              "      </button>\n",
              "\n",
              "\n",
              "\n",
              "    <div id=\"df-5ea92358-d104-4947-b26c-b2e16234115a\">\n",
              "      <button class=\"colab-df-quickchart\" onclick=\"quickchart('df-5ea92358-d104-4947-b26c-b2e16234115a')\"\n",
              "              title=\"Suggest charts.\"\n",
              "              style=\"display:none;\">\n",
              "\n",
              "<svg xmlns=\"http://www.w3.org/2000/svg\" height=\"24px\"viewBox=\"0 0 24 24\"\n",
              "     width=\"24px\">\n",
              "    <g>\n",
              "        <path d=\"M19 3H5c-1.1 0-2 .9-2 2v14c0 1.1.9 2 2 2h14c1.1 0 2-.9 2-2V5c0-1.1-.9-2-2-2zM9 17H7v-7h2v7zm4 0h-2V7h2v10zm4 0h-2v-4h2v4z\"/>\n",
              "    </g>\n",
              "</svg>\n",
              "      </button>\n",
              "    </div>\n",
              "\n",
              "<style>\n",
              "  .colab-df-quickchart {\n",
              "    background-color: #E8F0FE;\n",
              "    border: none;\n",
              "    border-radius: 50%;\n",
              "    cursor: pointer;\n",
              "    display: none;\n",
              "    fill: #1967D2;\n",
              "    height: 32px;\n",
              "    padding: 0 0 0 0;\n",
              "    width: 32px;\n",
              "  }\n",
              "\n",
              "  .colab-df-quickchart:hover {\n",
              "    background-color: #E2EBFA;\n",
              "    box-shadow: 0px 1px 2px rgba(60, 64, 67, 0.3), 0px 1px 3px 1px rgba(60, 64, 67, 0.15);\n",
              "    fill: #174EA6;\n",
              "  }\n",
              "\n",
              "  [theme=dark] .colab-df-quickchart {\n",
              "    background-color: #3B4455;\n",
              "    fill: #D2E3FC;\n",
              "  }\n",
              "\n",
              "  [theme=dark] .colab-df-quickchart:hover {\n",
              "    background-color: #434B5C;\n",
              "    box-shadow: 0px 1px 3px 1px rgba(0, 0, 0, 0.15);\n",
              "    filter: drop-shadow(0px 1px 2px rgba(0, 0, 0, 0.3));\n",
              "    fill: #FFFFFF;\n",
              "  }\n",
              "</style>\n",
              "\n",
              "    <script>\n",
              "      async function quickchart(key) {\n",
              "        const containerElement = document.querySelector('#' + key);\n",
              "        const charts = await google.colab.kernel.invokeFunction(\n",
              "            'suggestCharts', [key], {});\n",
              "      }\n",
              "    </script>\n",
              "\n",
              "      <script>\n",
              "\n",
              "function displayQuickchartButton(domScope) {\n",
              "  let quickchartButtonEl =\n",
              "    domScope.querySelector('#df-5ea92358-d104-4947-b26c-b2e16234115a button.colab-df-quickchart');\n",
              "  quickchartButtonEl.style.display =\n",
              "    google.colab.kernel.accessAllowed ? 'block' : 'none';\n",
              "}\n",
              "\n",
              "        displayQuickchartButton(document);\n",
              "      </script>\n",
              "      <style>\n",
              "    .colab-df-container {\n",
              "      display:flex;\n",
              "      flex-wrap:wrap;\n",
              "      gap: 12px;\n",
              "    }\n",
              "\n",
              "    .colab-df-convert {\n",
              "      background-color: #E8F0FE;\n",
              "      border: none;\n",
              "      border-radius: 50%;\n",
              "      cursor: pointer;\n",
              "      display: none;\n",
              "      fill: #1967D2;\n",
              "      height: 32px;\n",
              "      padding: 0 0 0 0;\n",
              "      width: 32px;\n",
              "    }\n",
              "\n",
              "    .colab-df-convert:hover {\n",
              "      background-color: #E2EBFA;\n",
              "      box-shadow: 0px 1px 2px rgba(60, 64, 67, 0.3), 0px 1px 3px 1px rgba(60, 64, 67, 0.15);\n",
              "      fill: #174EA6;\n",
              "    }\n",
              "\n",
              "    [theme=dark] .colab-df-convert {\n",
              "      background-color: #3B4455;\n",
              "      fill: #D2E3FC;\n",
              "    }\n",
              "\n",
              "    [theme=dark] .colab-df-convert:hover {\n",
              "      background-color: #434B5C;\n",
              "      box-shadow: 0px 1px 3px 1px rgba(0, 0, 0, 0.15);\n",
              "      filter: drop-shadow(0px 1px 2px rgba(0, 0, 0, 0.3));\n",
              "      fill: #FFFFFF;\n",
              "    }\n",
              "  </style>\n",
              "\n",
              "      <script>\n",
              "        const buttonEl =\n",
              "          document.querySelector('#df-0f919517-b12e-4adf-b7dd-50d31edc577f button.colab-df-convert');\n",
              "        buttonEl.style.display =\n",
              "          google.colab.kernel.accessAllowed ? 'block' : 'none';\n",
              "\n",
              "        async function convertToInteractive(key) {\n",
              "          const element = document.querySelector('#df-0f919517-b12e-4adf-b7dd-50d31edc577f');\n",
              "          const dataTable =\n",
              "            await google.colab.kernel.invokeFunction('convertToInteractive',\n",
              "                                                     [key], {});\n",
              "          if (!dataTable) return;\n",
              "\n",
              "          const docLinkHtml = 'Like what you see? Visit the ' +\n",
              "            '<a target=\"_blank\" href=https://colab.research.google.com/notebooks/data_table.ipynb>data table notebook</a>'\n",
              "            + ' to learn more about interactive tables.';\n",
              "          element.innerHTML = '';\n",
              "          dataTable['output_type'] = 'display_data';\n",
              "          await google.colab.output.renderOutput(dataTable, element);\n",
              "          const docLink = document.createElement('div');\n",
              "          docLink.innerHTML = docLinkHtml;\n",
              "          element.appendChild(docLink);\n",
              "        }\n",
              "      </script>\n",
              "    </div>\n",
              "  </div>\n"
            ]
          },
          "metadata": {},
          "execution_count": 128
        }
      ],
      "source": [
        "X=X[['Subscription Plan', 'Monthly Revenue ($)', 'Age',\n",
        "       'Plan Duration (Months)',\n",
        "       'Total Movies/Shows Watched', 'Genre Preference',\n",
        "       'No. of Recommendations Viewed', '% of Recommendations Acted Upon',\n",
        "       'Frequency of Rating', 'Duration']]\n",
        "X"
      ]
    },
    {
      "cell_type": "code",
      "execution_count": null,
      "metadata": {
        "id": "u149vYbV1-Lx"
      },
      "outputs": [],
      "source": [
        "# #feature extraction\n",
        "\n",
        "# from sklearn.decomposition import PCA\n",
        "# pca=PCA(n_components=9)\n",
        "# X=pca.fit_transform(X)"
      ]
    },
    {
      "cell_type": "code",
      "execution_count": null,
      "metadata": {
        "id": "G_g4h26F3FYe"
      },
      "outputs": [],
      "source": [
        "# pca.explained_variance_ratio_"
      ]
    },
    {
      "cell_type": "code",
      "execution_count": null,
      "metadata": {
        "id": "wEv3-uBZ3MaQ",
        "colab": {
          "base_uri": "https://localhost:8080/"
        },
        "outputId": "633d1e76-b681-48e1-846b-b3591c2303af"
      },
      "outputs": [
        {
          "output_type": "execute_result",
          "data": {
            "text/plain": [
              "array([0.5       , 1.        , 0.15625   , 0.47368421, 0.75      ,\n",
              "       0.44444444, 0.11494253, 0.71428571, 1.        , 1.        ])"
            ]
          },
          "metadata": {},
          "execution_count": 131
        }
      ],
      "source": [
        "#scaling the data\n",
        "\n",
        "sc=MinMaxScaler()\n",
        "X=sc.fit_transform(X)\n",
        "X[0]"
      ]
    },
    {
      "cell_type": "code",
      "execution_count": null,
      "metadata": {
        "id": "GR9iJYXm03n7"
      },
      "outputs": [],
      "source": [
        "#train test split\n",
        "from sklearn.model_selection import train_test_split\n",
        "X_train,X_test,y_train,y_test=train_test_split(X,y,test_size=0.3,random_state=2)"
      ]
    },
    {
      "cell_type": "code",
      "source": [
        "X_train.shape,y_train.shape,X_test.shape,y_test.shape"
      ],
      "metadata": {
        "colab": {
          "base_uri": "https://localhost:8080/"
        },
        "id": "pec4qV_e2sR6",
        "outputId": "7ce8698a-f580-427a-a040-aaa891638e6b"
      },
      "execution_count": null,
      "outputs": [
        {
          "output_type": "execute_result",
          "data": {
            "text/plain": [
              "((380, 10), (380,), (164, 10), (164,))"
            ]
          },
          "metadata": {},
          "execution_count": 133
        }
      ]
    },
    {
      "cell_type": "markdown",
      "metadata": {
        "id": "E2d0HquqP92L"
      },
      "source": [
        "**5.Model Building and Evaluation**"
      ]
    },
    {
      "cell_type": "markdown",
      "metadata": {
        "id": "dYVftwHPqm2O"
      },
      "source": [
        "Train and evaluate machine learning models (SVM, KNN, Random Forest) using the clustered data to predict user engagement levels and assess the performance of the model through appropriate evaluation metrics."
      ]
    },
    {
      "cell_type": "markdown",
      "metadata": {
        "id": "ojyPwGL6QHVW"
      },
      "source": [
        "**SVC(Support Vector Classifier)**"
      ]
    },
    {
      "cell_type": "code",
      "execution_count": null,
      "metadata": {
        "colab": {
          "base_uri": "https://localhost:8080/"
        },
        "id": "d8djO1Ii3jIv",
        "outputId": "d2460cac-09a5-4389-df63-d9a4aeb76540"
      },
      "outputs": [
        {
          "output_type": "execute_result",
          "data": {
            "text/plain": [
              "array([1, 1, 0, 0, 1, 0, 0, 0, 0, 0, 0, 2, 0, 0, 0, 2, 0, 2, 1, 1, 0, 1,\n",
              "       0, 0, 2, 0, 1, 1, 0, 0, 0, 0, 0, 0, 0, 0, 0, 1, 2, 1, 1, 2, 0, 0,\n",
              "       0, 0, 1, 0, 2, 2, 1, 1, 0, 0, 0, 0, 0, 1, 0, 0, 1, 2, 0, 2, 0, 0,\n",
              "       1, 0, 0, 0, 0, 2, 1, 2, 0, 1, 2, 2, 0, 1, 2, 1, 1, 0, 0, 1, 1, 0,\n",
              "       1, 0, 1, 1, 0, 0, 1, 0, 0, 2, 0, 0, 0, 0, 0, 2, 0, 0, 0, 2, 0, 0,\n",
              "       1, 0, 2, 0, 0, 1, 0, 0, 0, 2, 1, 0, 2, 0, 0, 0, 1, 2, 0, 0, 1, 1,\n",
              "       0, 1, 0, 0, 1, 2, 1, 0, 0, 1, 0, 1, 1, 0, 0, 0, 0, 2, 0, 0, 0, 1,\n",
              "       0, 0, 1, 0, 0, 1, 1, 1, 1, 1])"
            ]
          },
          "metadata": {},
          "execution_count": 134
        }
      ],
      "source": [
        "from sklearn.svm import SVC\n",
        "sv=SVC(kernel='poly')\n",
        "sv.fit(X_train,y_train)\n",
        "y_pred_sv=sv.predict(X_test)\n",
        "y_pred_sv"
      ]
    },
    {
      "cell_type": "code",
      "execution_count": null,
      "metadata": {
        "colab": {
          "base_uri": "https://localhost:8080/"
        },
        "id": "OSQcwZ9u4cLh",
        "outputId": "f4017bb4-7bc2-4274-e449-31a1d944a72d"
      },
      "outputs": [
        {
          "output_type": "stream",
          "name": "stdout",
          "text": [
            "              precision    recall  f1-score   support\n",
            "\n",
            "           0       1.00      1.00      1.00        93\n",
            "           1       0.98      1.00      0.99        46\n",
            "           2       1.00      0.96      0.98        25\n",
            "\n",
            "    accuracy                           0.99       164\n",
            "   macro avg       0.99      0.99      0.99       164\n",
            "weighted avg       0.99      0.99      0.99       164\n",
            "\n"
          ]
        }
      ],
      "source": [
        "print(classification_report(y_test,y_pred_sv))"
      ]
    },
    {
      "cell_type": "code",
      "source": [
        "print(ConfusionMatrixDisplay.from_predictions(y_test,y_pred_sv))"
      ],
      "metadata": {
        "colab": {
          "base_uri": "https://localhost:8080/",
          "height": 466
        },
        "id": "qUYYyaaFZmDu",
        "outputId": "e21664bd-46bb-478b-bd29-1df5a09aac58"
      },
      "execution_count": null,
      "outputs": [
        {
          "output_type": "stream",
          "name": "stdout",
          "text": [
            "<sklearn.metrics._plot.confusion_matrix.ConfusionMatrixDisplay object at 0x79e9ea489510>\n"
          ]
        },
        {
          "output_type": "display_data",
          "data": {
            "text/plain": [
              "<Figure size 640x480 with 2 Axes>"
            ],
            "image/png": "[encoded data removed]"
          },
          "metadata": {}
        }
      ]
    },
    {
      "cell_type": "markdown",
      "metadata": {
        "id": "ATt7XEp9QKeO"
      },
      "source": [
        "**KNN(K Nearest Neighbors) Classifier**"
      ]
    },
    {
      "cell_type": "code",
      "execution_count": null,
      "metadata": {
        "colab": {
          "base_uri": "https://localhost:8080/"
        },
        "id": "7b99Hhn25huL",
        "outputId": "7fb432a9-0804-4174-b64d-455f8c5b429a"
      },
      "outputs": [
        {
          "output_type": "execute_result",
          "data": {
            "text/plain": [
              "array([1, 1, 0, 0, 1, 0, 0, 0, 0, 0, 0, 2, 0, 0, 0, 2, 0, 2, 1, 1, 0, 1,\n",
              "       0, 0, 2, 0, 1, 1, 0, 0, 0, 0, 0, 0, 0, 0, 0, 1, 2, 1, 1, 2, 0, 0,\n",
              "       0, 0, 1, 0, 2, 2, 1, 1, 0, 0, 0, 0, 0, 1, 0, 0, 1, 2, 0, 2, 0, 0,\n",
              "       1, 0, 0, 0, 0, 2, 1, 2, 0, 1, 2, 2, 0, 1, 2, 1, 1, 0, 0, 1, 1, 0,\n",
              "       1, 0, 1, 1, 0, 0, 1, 0, 0, 2, 0, 0, 0, 0, 0, 2, 0, 0, 0, 2, 0, 0,\n",
              "       1, 0, 2, 0, 0, 1, 0, 0, 0, 2, 1, 0, 2, 0, 0, 0, 1, 2, 0, 0, 1, 1,\n",
              "       0, 1, 0, 0, 1, 2, 1, 0, 0, 1, 0, 1, 1, 0, 0, 0, 0, 2, 0, 0, 0, 1,\n",
              "       0, 0, 1, 0, 0, 1, 1, 1, 1, 1])"
            ]
          },
          "metadata": {},
          "execution_count": 137
        }
      ],
      "source": [
        "#knn\n",
        "knn=KNeighborsClassifier(n_neighbors=3)\n",
        "knn.fit(X_train,y_train)\n",
        "y_pred_kn=knn.predict(X_test)\n",
        "y_pred_kn"
      ]
    },
    {
      "cell_type": "code",
      "execution_count": null,
      "metadata": {
        "colab": {
          "base_uri": "https://localhost:8080/"
        },
        "id": "66uWBOMW8f2f",
        "outputId": "214f5b75-59f8-4894-b56b-fc7ea9e51cc8"
      },
      "outputs": [
        {
          "output_type": "stream",
          "name": "stdout",
          "text": [
            "              precision    recall  f1-score   support\n",
            "\n",
            "           0       1.00      1.00      1.00        93\n",
            "           1       0.98      1.00      0.99        46\n",
            "           2       1.00      0.96      0.98        25\n",
            "\n",
            "    accuracy                           0.99       164\n",
            "   macro avg       0.99      0.99      0.99       164\n",
            "weighted avg       0.99      0.99      0.99       164\n",
            "\n"
          ]
        }
      ],
      "source": [
        "print(classification_report(y_test,y_pred_kn))"
      ]
    },
    {
      "cell_type": "code",
      "source": [
        "print(ConfusionMatrixDisplay.from_predictions(y_test,y_pred_kn))"
      ],
      "metadata": {
        "colab": {
          "base_uri": "https://localhost:8080/",
          "height": 466
        },
        "id": "76-7gHX_a3vA",
        "outputId": "936d565d-817a-4f18-d139-dee7a53df880"
      },
      "execution_count": null,
      "outputs": [
        {
          "output_type": "stream",
          "name": "stdout",
          "text": [
            "<sklearn.metrics._plot.confusion_matrix.ConfusionMatrixDisplay object at 0x79e9e96d2740>\n"
          ]
        },
        {
          "output_type": "display_data",
          "data": {
            "text/plain": [
              "<Figure size 640x480 with 2 Axes>"
            ],
            "image/png": "[encoded data removed]"
          },
          "metadata": {}
        }
      ]
    },
    {
      "cell_type": "markdown",
      "metadata": {
        "id": "oscIiXmZQO7I"
      },
      "source": [
        "**Random Forest Classifier**"
      ]
    },
    {
      "cell_type": "code",
      "execution_count": null,
      "metadata": {
        "colab": {
          "base_uri": "https://localhost:8080/"
        },
        "id": "ReoyHyNE8s7h",
        "outputId": "62aa9b1d-ef56-4065-90bf-0d77dd5362c1"
      },
      "outputs": [
        {
          "output_type": "execute_result",
          "data": {
            "text/plain": [
              "array([1, 1, 0, 0, 1, 0, 0, 0, 0, 0, 0, 2, 0, 0, 0, 2, 0, 2, 1, 1, 0, 1,\n",
              "       0, 0, 2, 0, 1, 1, 0, 0, 0, 0, 0, 0, 0, 0, 0, 1, 2, 1, 1, 2, 0, 0,\n",
              "       0, 0, 1, 0, 2, 2, 1, 1, 0, 0, 0, 0, 0, 1, 0, 0, 1, 2, 0, 2, 0, 0,\n",
              "       1, 0, 0, 0, 0, 2, 1, 2, 0, 1, 2, 2, 0, 1, 2, 1, 1, 0, 0, 1, 1, 0,\n",
              "       1, 0, 1, 1, 0, 0, 1, 0, 0, 2, 0, 0, 0, 0, 0, 2, 0, 0, 0, 2, 0, 0,\n",
              "       1, 0, 2, 0, 0, 1, 0, 0, 0, 2, 1, 0, 2, 0, 0, 0, 1, 2, 0, 0, 1, 1,\n",
              "       0, 1, 0, 0, 1, 2, 1, 0, 0, 1, 0, 1, 1, 0, 0, 0, 0, 2, 0, 0, 0, 1,\n",
              "       0, 0, 1, 0, 0, 1, 1, 1, 1, 1])"
            ]
          },
          "metadata": {},
          "execution_count": 140
        }
      ],
      "source": [
        "#rf\n",
        "rf=RandomForestClassifier(n_estimators=75,random_state=2)\n",
        "rf.fit(X_train,y_train)\n",
        "y_pred_rf=rf.predict(X_test)\n",
        "y_pred_rf"
      ]
    },
    {
      "cell_type": "code",
      "execution_count": null,
      "metadata": {
        "colab": {
          "base_uri": "https://localhost:8080/"
        },
        "id": "gJkwSecL858J",
        "outputId": "6d4b076c-5c58-4296-8fc4-a4078d452ccd"
      },
      "outputs": [
        {
          "output_type": "stream",
          "name": "stdout",
          "text": [
            "              precision    recall  f1-score   support\n",
            "\n",
            "           0       1.00      1.00      1.00        93\n",
            "           1       0.98      1.00      0.99        46\n",
            "           2       1.00      0.96      0.98        25\n",
            "\n",
            "    accuracy                           0.99       164\n",
            "   macro avg       0.99      0.99      0.99       164\n",
            "weighted avg       0.99      0.99      0.99       164\n",
            "\n"
          ]
        }
      ],
      "source": [
        "print(classification_report(y_test,y_pred_rf))"
      ]
    },
    {
      "cell_type": "code",
      "source": [
        "print(ConfusionMatrixDisplay.from_predictions(y_test,y_pred_rf))"
      ],
      "metadata": {
        "colab": {
          "base_uri": "https://localhost:8080/",
          "height": 466
        },
        "id": "wYcVYCdoa6iY",
        "outputId": "b22b7b03-ed34-4214-9b8d-0219f2f82071"
      },
      "execution_count": null,
      "outputs": [
        {
          "output_type": "stream",
          "name": "stdout",
          "text": [
            "<sklearn.metrics._plot.confusion_matrix.ConfusionMatrixDisplay object at 0x79e9eaaf1bd0>\n"
          ]
        },
        {
          "output_type": "display_data",
          "data": {
            "text/plain": [
              "<Figure size 640x480 with 2 Axes>"
            ],
            "image/png": "[encoded data removed]"
          },
          "metadata": {}
        }
      ]
    },
    {
      "cell_type": "markdown",
      "metadata": {
        "id": "7hazFJfxppSm"
      },
      "source": [
        "Random Forest model gives a high accuracy of 100%"
      ]
    },
    {
      "cell_type": "markdown",
      "metadata": {
        "id": "ZLnCqjvPQtuU"
      },
      "source": [
        "**New Prediction**"
      ]
    },
    {
      "cell_type": "code",
      "execution_count": null,
      "metadata": {
        "colab": {
          "base_uri": "https://localhost:8080/"
        },
        "id": "wEO_gwe9A19c",
        "outputId": "5687298f-2229-4d52-9813-93b9509e383f"
      },
      "outputs": [
        {
          "output_type": "stream",
          "name": "stdout",
          "text": [
            "Engagement level: Low\n"
          ]
        }
      ],
      "source": [
        "#new prediction\n",
        "\n",
        "data={'Subscription Plan':['Premium'], 'Monthly Revenue ($)':[20], 'Age':[32],\n",
        "       'Plan Duration (Months)':[11],\n",
        "       'Total Movies/Shows Watched':[45], 'Genre Preference':['Comedy'],\n",
        "       'No. of Recommendations Viewed':[4], '% of Recommendations Acted Upon':[20],\n",
        "       'Frequency of Rating':['Monthly'], 'Duration':[500]}\n",
        "\n",
        "df_pred=pd.DataFrame(data)\n",
        "\n",
        "df_pred['Subscription Plan'] = sp.transform(df_pred['Subscription Plan'])\n",
        "df_pred['Genre Preference'] = gn.transform(df_pred['Genre Preference'])\n",
        "df_pred['Frequency of Rating'] = fr.transform(df_pred['Frequency of Rating'])\n",
        "\n",
        "new_pred=rf.predict(sc.transform(df_pred))\n",
        "\n",
        "if new_pred==0:\n",
        "  print('Engagement level: Low')\n",
        "elif new_pred==1:\n",
        "  print('Engagement level: Medium')\n",
        "else:\n",
        "  print('Engagement level: High')\n"
      ]
    },
    {
      "cell_type": "markdown",
      "source": [
        "**Streamlit app Creation**"
      ],
      "metadata": {
        "id": "hhqNzQPWtmjq"
      }
    },
    {
      "cell_type": "markdown",
      "source": [
        "Creating streamlit application for the model"
      ],
      "metadata": {
        "id": "AxgNhpmhYm0_"
      }
    },
    {
      "cell_type": "code",
      "source": [
        "import pickle"
      ],
      "metadata": {
        "id": "8Ye4tWeXttbK"
      },
      "execution_count": null,
      "outputs": []
    },
    {
      "cell_type": "code",
      "source": [
        "#saving the trained model\n",
        "filename='trained_model.sav'\n",
        "pickle.dump(sv,open('trained_model.sav','wb'))"
      ],
      "metadata": {
        "id": "lag3iIcyuQcR"
      },
      "execution_count": null,
      "outputs": []
    },
    {
      "cell_type": "code",
      "source": [
        "#loading the saved model\n",
        "loaded_model=pickle.load(open('trained_model.sav','rb'))"
      ],
      "metadata": {
        "id": "QMu8jKphu29F"
      },
      "execution_count": null,
      "outputs": []
    },
    {
      "cell_type": "code",
      "source": [
        "#saving objects\n",
        "obj=[sp,gn,fr,sc]\n",
        "filename='object.sav'\n",
        "pickle.dump(obj,open('object.sav','wb'))"
      ],
      "metadata": {
        "id": "NLbZ5FLh0LFS"
      },
      "execution_count": null,
      "outputs": []
    },
    {
      "cell_type": "code",
      "source": [
        "#loading\n",
        "loaded_file=pickle.load(open('object.sav','rb'))\n",
        "loaded_file"
      ],
      "metadata": {
        "colab": {
          "base_uri": "https://localhost:8080/"
        },
        "id": "mrKpK2ap0NB_",
        "outputId": "66be3ea1-1aa3-4aae-af5e-9e40cfaabd78"
      },
      "execution_count": null,
      "outputs": [
        {
          "output_type": "execute_result",
          "data": {
            "text/plain": [
              "[LabelEncoder(), LabelEncoder(), LabelEncoder(), MinMaxScaler()]"
            ]
          },
          "metadata": {},
          "execution_count": 148
        }
      ]
    },
    {
      "cell_type": "code",
      "source": [],
      "metadata": {
        "id": "kJmI-S7BviIm"
      },
      "execution_count": null,
      "outputs": []
    }
  ],
  "metadata": {
    "colab": {
      "provenance": []
    },
    "kernelspec": {
      "display_name": "Python 3",
      "name": "python3"
    },
    "language_info": {
      "name": "python"
    }
  },
  "nbformat": 4,
  "nbformat_minor": 0
}